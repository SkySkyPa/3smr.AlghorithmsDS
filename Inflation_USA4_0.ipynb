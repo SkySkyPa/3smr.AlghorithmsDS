{
 "cells": [
  {
   "cell_type": "code",
   "execution_count": 436,
   "id": "cef67739-2374-42ee-8d73-838f26556f16",
   "metadata": {
    "id": "cef67739-2374-42ee-8d73-838f26556f16",
    "pycharm": {
     "name": "#%%\n"
    }
   },
   "outputs": [],
   "source": [
    "import pandas as pd\n",
    "import numpy as np\n",
    "import matplotlib as mpl\n",
    "import matplotlib.pyplot as plt\n",
    "from statsmodels.tsa.arima_model import ARIMA\n",
    "import datetime\n",
    "import seaborn as sns\n",
    "\n",
    "from statsmodels.tsa.stattools import grangercausalitytests\n",
    "from statsmodels.tsa.stattools import adfuller\n",
    "import statsmodels.api as sample_data\n",
    "from statsmodels.tsa.api import VAR\n",
    "from sklearn.metrics import mean_absolute_error, mean_squared_error\n",
    "import math\n",
    "\n",
    "\n",
    "mpl.rcParams['figure.figsize'] = (10, 8)\n",
    "mpl.rcParams['axes.grid'] = False"
   ]
  },
  {
   "cell_type": "code",
   "execution_count": 437,
   "id": "505ea3ff-43f1-41e8-8c0e-9a5387f569fe",
   "metadata": {
    "id": "505ea3ff-43f1-41e8-8c0e-9a5387f569fe",
    "pycharm": {
     "name": "#%%\n"
    }
   },
   "outputs": [],
   "source": [
    "df = pd.read_csv('/content/inflation interest unemployment.csv')"
   ]
  },
  {
   "cell_type": "code",
   "execution_count": 438,
   "id": "9c5b1dc3-d147-482a-a7c5-4380f871c85f",
   "metadata": {
    "id": "9c5b1dc3-d147-482a-a7c5-4380f871c85f",
    "pycharm": {
     "name": "#%%\n"
    }
   },
   "outputs": [],
   "source": [
    "df_usa = df[df['country'] == 'United States']"
   ]
  },
  {
   "cell_type": "code",
   "execution_count": 439,
   "id": "ab5ba350-fe5f-4a40-ac70-e0b6fc5b11c8",
   "metadata": {
    "colab": {
     "base_uri": "https://localhost:8080/",
     "height": 328
    },
    "id": "ab5ba350-fe5f-4a40-ac70-e0b6fc5b11c8",
    "outputId": "edac0f3a-88e7-49f8-eca5-6fd2c67bc195",
    "pycharm": {
     "name": "#%%\n"
    }
   },
   "outputs": [
    {
     "output_type": "execute_result",
     "data": {
      "text/plain": [
       "             country  year  Inflation, consumer prices (annual %)  \\\n",
       "13156  United States  1970                               5.838255   \n",
       "13157  United States  1971                               4.292767   \n",
       "13158  United States  1972                               3.272278   \n",
       "13159  United States  1973                               6.177760   \n",
       "13160  United States  1974                              11.054805   \n",
       "\n",
       "       Inflation, GDP deflator (annual %)  Real interest rate (%)  \\\n",
       "13156                            5.602170                2.185400   \n",
       "13157                            5.069167                0.622605   \n",
       "13158                            4.322751                0.887229   \n",
       "13159                            5.479881                2.409735   \n",
       "13160                            8.998695                1.651064   \n",
       "\n",
       "       Deposit interest rate (%)  Lending interest rate (%)  \\\n",
       "13156                        NaN                   7.910000   \n",
       "13157                        NaN                   5.723333   \n",
       "13158                        NaN                   5.248333   \n",
       "13159                        NaN                   8.021667   \n",
       "13160                        NaN                  10.798333   \n",
       "\n",
       "       Unemployment, total (% of total labor force) (national estimate)  \\\n",
       "13156                                                4.9                  \n",
       "13157                                                5.9                  \n",
       "13158                                                5.6                  \n",
       "13159                                                4.9                  \n",
       "13160                                                5.6                  \n",
       "\n",
       "       Unemployment, total (% of total labor force) (modeled ILO estimate)  \\\n",
       "13156                                                NaN                     \n",
       "13157                                                NaN                     \n",
       "13158                                                NaN                     \n",
       "13159                                                NaN                     \n",
       "13160                                                NaN                     \n",
       "\n",
       "      iso3c iso2c adminregion  incomeLevel  \n",
       "13156   USA    US         NaN  High income  \n",
       "13157   USA    US         NaN  High income  \n",
       "13158   USA    US         NaN  High income  \n",
       "13159   USA    US         NaN  High income  \n",
       "13160   USA    US         NaN  High income  "
      ],
      "text/html": [
       "\n",
       "  <div id=\"df-f0b5d7a7-e6be-4468-b034-455ffc867e42\" class=\"colab-df-container\">\n",
       "    <div>\n",
       "<style scoped>\n",
       "    .dataframe tbody tr th:only-of-type {\n",
       "        vertical-align: middle;\n",
       "    }\n",
       "\n",
       "    .dataframe tbody tr th {\n",
       "        vertical-align: top;\n",
       "    }\n",
       "\n",
       "    .dataframe thead th {\n",
       "        text-align: right;\n",
       "    }\n",
       "</style>\n",
       "<table border=\"1\" class=\"dataframe\">\n",
       "  <thead>\n",
       "    <tr style=\"text-align: right;\">\n",
       "      <th></th>\n",
       "      <th>country</th>\n",
       "      <th>year</th>\n",
       "      <th>Inflation, consumer prices (annual %)</th>\n",
       "      <th>Inflation, GDP deflator (annual %)</th>\n",
       "      <th>Real interest rate (%)</th>\n",
       "      <th>Deposit interest rate (%)</th>\n",
       "      <th>Lending interest rate (%)</th>\n",
       "      <th>Unemployment, total (% of total labor force) (national estimate)</th>\n",
       "      <th>Unemployment, total (% of total labor force) (modeled ILO estimate)</th>\n",
       "      <th>iso3c</th>\n",
       "      <th>iso2c</th>\n",
       "      <th>adminregion</th>\n",
       "      <th>incomeLevel</th>\n",
       "    </tr>\n",
       "  </thead>\n",
       "  <tbody>\n",
       "    <tr>\n",
       "      <th>13156</th>\n",
       "      <td>United States</td>\n",
       "      <td>1970</td>\n",
       "      <td>5.838255</td>\n",
       "      <td>5.602170</td>\n",
       "      <td>2.185400</td>\n",
       "      <td>NaN</td>\n",
       "      <td>7.910000</td>\n",
       "      <td>4.9</td>\n",
       "      <td>NaN</td>\n",
       "      <td>USA</td>\n",
       "      <td>US</td>\n",
       "      <td>NaN</td>\n",
       "      <td>High income</td>\n",
       "    </tr>\n",
       "    <tr>\n",
       "      <th>13157</th>\n",
       "      <td>United States</td>\n",
       "      <td>1971</td>\n",
       "      <td>4.292767</td>\n",
       "      <td>5.069167</td>\n",
       "      <td>0.622605</td>\n",
       "      <td>NaN</td>\n",
       "      <td>5.723333</td>\n",
       "      <td>5.9</td>\n",
       "      <td>NaN</td>\n",
       "      <td>USA</td>\n",
       "      <td>US</td>\n",
       "      <td>NaN</td>\n",
       "      <td>High income</td>\n",
       "    </tr>\n",
       "    <tr>\n",
       "      <th>13158</th>\n",
       "      <td>United States</td>\n",
       "      <td>1972</td>\n",
       "      <td>3.272278</td>\n",
       "      <td>4.322751</td>\n",
       "      <td>0.887229</td>\n",
       "      <td>NaN</td>\n",
       "      <td>5.248333</td>\n",
       "      <td>5.6</td>\n",
       "      <td>NaN</td>\n",
       "      <td>USA</td>\n",
       "      <td>US</td>\n",
       "      <td>NaN</td>\n",
       "      <td>High income</td>\n",
       "    </tr>\n",
       "    <tr>\n",
       "      <th>13159</th>\n",
       "      <td>United States</td>\n",
       "      <td>1973</td>\n",
       "      <td>6.177760</td>\n",
       "      <td>5.479881</td>\n",
       "      <td>2.409735</td>\n",
       "      <td>NaN</td>\n",
       "      <td>8.021667</td>\n",
       "      <td>4.9</td>\n",
       "      <td>NaN</td>\n",
       "      <td>USA</td>\n",
       "      <td>US</td>\n",
       "      <td>NaN</td>\n",
       "      <td>High income</td>\n",
       "    </tr>\n",
       "    <tr>\n",
       "      <th>13160</th>\n",
       "      <td>United States</td>\n",
       "      <td>1974</td>\n",
       "      <td>11.054805</td>\n",
       "      <td>8.998695</td>\n",
       "      <td>1.651064</td>\n",
       "      <td>NaN</td>\n",
       "      <td>10.798333</td>\n",
       "      <td>5.6</td>\n",
       "      <td>NaN</td>\n",
       "      <td>USA</td>\n",
       "      <td>US</td>\n",
       "      <td>NaN</td>\n",
       "      <td>High income</td>\n",
       "    </tr>\n",
       "  </tbody>\n",
       "</table>\n",
       "</div>\n",
       "    <div class=\"colab-df-buttons\">\n",
       "\n",
       "  <div class=\"colab-df-container\">\n",
       "    <button class=\"colab-df-convert\" onclick=\"convertToInteractive('df-f0b5d7a7-e6be-4468-b034-455ffc867e42')\"\n",
       "            title=\"Convert this dataframe to an interactive table.\"\n",
       "            style=\"display:none;\">\n",
       "\n",
       "  <svg xmlns=\"http://www.w3.org/2000/svg\" height=\"24px\" viewBox=\"0 -960 960 960\">\n",
       "    <path d=\"M120-120v-720h720v720H120Zm60-500h600v-160H180v160Zm220 220h160v-160H400v160Zm0 220h160v-160H400v160ZM180-400h160v-160H180v160Zm440 0h160v-160H620v160ZM180-180h160v-160H180v160Zm440 0h160v-160H620v160Z\"/>\n",
       "  </svg>\n",
       "    </button>\n",
       "\n",
       "  <style>\n",
       "    .colab-df-container {\n",
       "      display:flex;\n",
       "      gap: 12px;\n",
       "    }\n",
       "\n",
       "    .colab-df-convert {\n",
       "      background-color: #E8F0FE;\n",
       "      border: none;\n",
       "      border-radius: 50%;\n",
       "      cursor: pointer;\n",
       "      display: none;\n",
       "      fill: #1967D2;\n",
       "      height: 32px;\n",
       "      padding: 0 0 0 0;\n",
       "      width: 32px;\n",
       "    }\n",
       "\n",
       "    .colab-df-convert:hover {\n",
       "      background-color: #E2EBFA;\n",
       "      box-shadow: 0px 1px 2px rgba(60, 64, 67, 0.3), 0px 1px 3px 1px rgba(60, 64, 67, 0.15);\n",
       "      fill: #174EA6;\n",
       "    }\n",
       "\n",
       "    .colab-df-buttons div {\n",
       "      margin-bottom: 4px;\n",
       "    }\n",
       "\n",
       "    [theme=dark] .colab-df-convert {\n",
       "      background-color: #3B4455;\n",
       "      fill: #D2E3FC;\n",
       "    }\n",
       "\n",
       "    [theme=dark] .colab-df-convert:hover {\n",
       "      background-color: #434B5C;\n",
       "      box-shadow: 0px 1px 3px 1px rgba(0, 0, 0, 0.15);\n",
       "      filter: drop-shadow(0px 1px 2px rgba(0, 0, 0, 0.3));\n",
       "      fill: #FFFFFF;\n",
       "    }\n",
       "  </style>\n",
       "\n",
       "    <script>\n",
       "      const buttonEl =\n",
       "        document.querySelector('#df-f0b5d7a7-e6be-4468-b034-455ffc867e42 button.colab-df-convert');\n",
       "      buttonEl.style.display =\n",
       "        google.colab.kernel.accessAllowed ? 'block' : 'none';\n",
       "\n",
       "      async function convertToInteractive(key) {\n",
       "        const element = document.querySelector('#df-f0b5d7a7-e6be-4468-b034-455ffc867e42');\n",
       "        const dataTable =\n",
       "          await google.colab.kernel.invokeFunction('convertToInteractive',\n",
       "                                                    [key], {});\n",
       "        if (!dataTable) return;\n",
       "\n",
       "        const docLinkHtml = 'Like what you see? Visit the ' +\n",
       "          '<a target=\"_blank\" href=https://colab.research.google.com/notebooks/data_table.ipynb>data table notebook</a>'\n",
       "          + ' to learn more about interactive tables.';\n",
       "        element.innerHTML = '';\n",
       "        dataTable['output_type'] = 'display_data';\n",
       "        await google.colab.output.renderOutput(dataTable, element);\n",
       "        const docLink = document.createElement('div');\n",
       "        docLink.innerHTML = docLinkHtml;\n",
       "        element.appendChild(docLink);\n",
       "      }\n",
       "    </script>\n",
       "  </div>\n",
       "\n",
       "\n",
       "<div id=\"df-82ce2e84-3101-4ebb-9a90-837f312af129\">\n",
       "  <button class=\"colab-df-quickchart\" onclick=\"quickchart('df-82ce2e84-3101-4ebb-9a90-837f312af129')\"\n",
       "            title=\"Suggest charts\"\n",
       "            style=\"display:none;\">\n",
       "\n",
       "<svg xmlns=\"http://www.w3.org/2000/svg\" height=\"24px\"viewBox=\"0 0 24 24\"\n",
       "     width=\"24px\">\n",
       "    <g>\n",
       "        <path d=\"M19 3H5c-1.1 0-2 .9-2 2v14c0 1.1.9 2 2 2h14c1.1 0 2-.9 2-2V5c0-1.1-.9-2-2-2zM9 17H7v-7h2v7zm4 0h-2V7h2v10zm4 0h-2v-4h2v4z\"/>\n",
       "    </g>\n",
       "</svg>\n",
       "  </button>\n",
       "\n",
       "<style>\n",
       "  .colab-df-quickchart {\n",
       "      --bg-color: #E8F0FE;\n",
       "      --fill-color: #1967D2;\n",
       "      --hover-bg-color: #E2EBFA;\n",
       "      --hover-fill-color: #174EA6;\n",
       "      --disabled-fill-color: #AAA;\n",
       "      --disabled-bg-color: #DDD;\n",
       "  }\n",
       "\n",
       "  [theme=dark] .colab-df-quickchart {\n",
       "      --bg-color: #3B4455;\n",
       "      --fill-color: #D2E3FC;\n",
       "      --hover-bg-color: #434B5C;\n",
       "      --hover-fill-color: #FFFFFF;\n",
       "      --disabled-bg-color: #3B4455;\n",
       "      --disabled-fill-color: #666;\n",
       "  }\n",
       "\n",
       "  .colab-df-quickchart {\n",
       "    background-color: var(--bg-color);\n",
       "    border: none;\n",
       "    border-radius: 50%;\n",
       "    cursor: pointer;\n",
       "    display: none;\n",
       "    fill: var(--fill-color);\n",
       "    height: 32px;\n",
       "    padding: 0;\n",
       "    width: 32px;\n",
       "  }\n",
       "\n",
       "  .colab-df-quickchart:hover {\n",
       "    background-color: var(--hover-bg-color);\n",
       "    box-shadow: 0 1px 2px rgba(60, 64, 67, 0.3), 0 1px 3px 1px rgba(60, 64, 67, 0.15);\n",
       "    fill: var(--button-hover-fill-color);\n",
       "  }\n",
       "\n",
       "  .colab-df-quickchart-complete:disabled,\n",
       "  .colab-df-quickchart-complete:disabled:hover {\n",
       "    background-color: var(--disabled-bg-color);\n",
       "    fill: var(--disabled-fill-color);\n",
       "    box-shadow: none;\n",
       "  }\n",
       "\n",
       "  .colab-df-spinner {\n",
       "    border: 2px solid var(--fill-color);\n",
       "    border-color: transparent;\n",
       "    border-bottom-color: var(--fill-color);\n",
       "    animation:\n",
       "      spin 1s steps(1) infinite;\n",
       "  }\n",
       "\n",
       "  @keyframes spin {\n",
       "    0% {\n",
       "      border-color: transparent;\n",
       "      border-bottom-color: var(--fill-color);\n",
       "      border-left-color: var(--fill-color);\n",
       "    }\n",
       "    20% {\n",
       "      border-color: transparent;\n",
       "      border-left-color: var(--fill-color);\n",
       "      border-top-color: var(--fill-color);\n",
       "    }\n",
       "    30% {\n",
       "      border-color: transparent;\n",
       "      border-left-color: var(--fill-color);\n",
       "      border-top-color: var(--fill-color);\n",
       "      border-right-color: var(--fill-color);\n",
       "    }\n",
       "    40% {\n",
       "      border-color: transparent;\n",
       "      border-right-color: var(--fill-color);\n",
       "      border-top-color: var(--fill-color);\n",
       "    }\n",
       "    60% {\n",
       "      border-color: transparent;\n",
       "      border-right-color: var(--fill-color);\n",
       "    }\n",
       "    80% {\n",
       "      border-color: transparent;\n",
       "      border-right-color: var(--fill-color);\n",
       "      border-bottom-color: var(--fill-color);\n",
       "    }\n",
       "    90% {\n",
       "      border-color: transparent;\n",
       "      border-bottom-color: var(--fill-color);\n",
       "    }\n",
       "  }\n",
       "</style>\n",
       "\n",
       "  <script>\n",
       "    async function quickchart(key) {\n",
       "      const quickchartButtonEl =\n",
       "        document.querySelector('#' + key + ' button');\n",
       "      quickchartButtonEl.disabled = true;  // To prevent multiple clicks.\n",
       "      quickchartButtonEl.classList.add('colab-df-spinner');\n",
       "      try {\n",
       "        const charts = await google.colab.kernel.invokeFunction(\n",
       "            'suggestCharts', [key], {});\n",
       "      } catch (error) {\n",
       "        console.error('Error during call to suggestCharts:', error);\n",
       "      }\n",
       "      quickchartButtonEl.classList.remove('colab-df-spinner');\n",
       "      quickchartButtonEl.classList.add('colab-df-quickchart-complete');\n",
       "    }\n",
       "    (() => {\n",
       "      let quickchartButtonEl =\n",
       "        document.querySelector('#df-82ce2e84-3101-4ebb-9a90-837f312af129 button');\n",
       "      quickchartButtonEl.style.display =\n",
       "        google.colab.kernel.accessAllowed ? 'block' : 'none';\n",
       "    })();\n",
       "  </script>\n",
       "</div>\n",
       "    </div>\n",
       "  </div>\n"
      ]
     },
     "metadata": {},
     "execution_count": 439
    }
   ],
   "source": [
    "df_usa.head()"
   ]
  },
  {
   "cell_type": "code",
   "execution_count": 440,
   "id": "2d4fc2a7-3ae1-4427-8b06-5d960d279c93",
   "metadata": {
    "colab": {
     "base_uri": "https://localhost:8080/"
    },
    "id": "2d4fc2a7-3ae1-4427-8b06-5d960d279c93",
    "outputId": "f1d194b1-fcf5-410e-e3fb-d023356499d9",
    "pycharm": {
     "name": "#%%\n"
    }
   },
   "outputs": [
    {
     "output_type": "stream",
     "name": "stdout",
     "text": [
      "<class 'pandas.core.frame.DataFrame'>\n",
      "Int64Index: 52 entries, 13156 to 13207\n",
      "Data columns (total 13 columns):\n",
      " #   Column                                                               Non-Null Count  Dtype  \n",
      "---  ------                                                               --------------  -----  \n",
      " 0   country                                                              52 non-null     object \n",
      " 1   year                                                                 52 non-null     int64  \n",
      " 2   Inflation, consumer prices (annual %)                                52 non-null     float64\n",
      " 3   Inflation, GDP deflator (annual %)                                   51 non-null     float64\n",
      " 4   Real interest rate (%)                                               51 non-null     float64\n",
      " 5   Deposit interest rate (%)                                            0 non-null      float64\n",
      " 6   Lending interest rate (%)                                            52 non-null     float64\n",
      " 7   Unemployment, total (% of total labor force) (national estimate)     52 non-null     float64\n",
      " 8   Unemployment, total (% of total labor force) (modeled ILO estimate)  31 non-null     float64\n",
      " 9   iso3c                                                                52 non-null     object \n",
      " 10  iso2c                                                                52 non-null     object \n",
      " 11  adminregion                                                          0 non-null      object \n",
      " 12  incomeLevel                                                          52 non-null     object \n",
      "dtypes: float64(7), int64(1), object(5)\n",
      "memory usage: 5.7+ KB\n"
     ]
    }
   ],
   "source": [
    "df_usa.info()"
   ]
  },
  {
   "cell_type": "code",
   "execution_count": 441,
   "id": "6b81956c-24df-4f8c-b83c-2344df96cff8",
   "metadata": {
    "id": "6b81956c-24df-4f8c-b83c-2344df96cff8",
    "pycharm": {
     "name": "#%%\n"
    }
   },
   "outputs": [],
   "source": [
    "df_usa = df_usa.reset_index(drop = True)"
   ]
  },
  {
   "cell_type": "code",
   "execution_count": 442,
   "id": "5cdae942-654a-40ac-9a4e-2305dbff3985",
   "metadata": {
    "id": "5cdae942-654a-40ac-9a4e-2305dbff3985",
    "pycharm": {
     "name": "#%%\n"
    }
   },
   "outputs": [],
   "source": [
    "#Delete columns that are not needed\n",
    "columns_to_delete = ['Deposit interest rate (%)','iso3c', 'iso2c', 'country', 'Inflation, GDP deflator (annual %)', 'adminregion', 'incomeLevel', 'Lending interest rate (%)', 'Unemployment, total (% of total labor force) (national estimate)', 'Unemployment, total (% of total labor force) (modeled ILO estimate)']\n",
    "df_usa.drop(columns=columns_to_delete, inplace=True)"
   ]
  },
  {
   "cell_type": "code",
   "execution_count": 443,
   "id": "0517b9a4-1d4d-429a-9e1f-21862690b589",
   "metadata": {
    "colab": {
     "base_uri": "https://localhost:8080/",
     "height": 206
    },
    "id": "0517b9a4-1d4d-429a-9e1f-21862690b589",
    "outputId": "9d4ba658-6b8e-47c6-89b1-9ea2b84192f2",
    "pycharm": {
     "name": "#%%\n"
    }
   },
   "outputs": [
    {
     "output_type": "execute_result",
     "data": {
      "text/plain": [
       "   year  Inflation, consumer prices (annual %)  Real interest rate (%)\n",
       "0  1970                               5.838255                2.185400\n",
       "1  1971                               4.292767                0.622605\n",
       "2  1972                               3.272278                0.887229\n",
       "3  1973                               6.177760                2.409735\n",
       "4  1974                              11.054805                1.651064"
      ],
      "text/html": [
       "\n",
       "  <div id=\"df-ba69b34e-5425-40bb-ac6c-ea13917134ca\" class=\"colab-df-container\">\n",
       "    <div>\n",
       "<style scoped>\n",
       "    .dataframe tbody tr th:only-of-type {\n",
       "        vertical-align: middle;\n",
       "    }\n",
       "\n",
       "    .dataframe tbody tr th {\n",
       "        vertical-align: top;\n",
       "    }\n",
       "\n",
       "    .dataframe thead th {\n",
       "        text-align: right;\n",
       "    }\n",
       "</style>\n",
       "<table border=\"1\" class=\"dataframe\">\n",
       "  <thead>\n",
       "    <tr style=\"text-align: right;\">\n",
       "      <th></th>\n",
       "      <th>year</th>\n",
       "      <th>Inflation, consumer prices (annual %)</th>\n",
       "      <th>Real interest rate (%)</th>\n",
       "    </tr>\n",
       "  </thead>\n",
       "  <tbody>\n",
       "    <tr>\n",
       "      <th>0</th>\n",
       "      <td>1970</td>\n",
       "      <td>5.838255</td>\n",
       "      <td>2.185400</td>\n",
       "    </tr>\n",
       "    <tr>\n",
       "      <th>1</th>\n",
       "      <td>1971</td>\n",
       "      <td>4.292767</td>\n",
       "      <td>0.622605</td>\n",
       "    </tr>\n",
       "    <tr>\n",
       "      <th>2</th>\n",
       "      <td>1972</td>\n",
       "      <td>3.272278</td>\n",
       "      <td>0.887229</td>\n",
       "    </tr>\n",
       "    <tr>\n",
       "      <th>3</th>\n",
       "      <td>1973</td>\n",
       "      <td>6.177760</td>\n",
       "      <td>2.409735</td>\n",
       "    </tr>\n",
       "    <tr>\n",
       "      <th>4</th>\n",
       "      <td>1974</td>\n",
       "      <td>11.054805</td>\n",
       "      <td>1.651064</td>\n",
       "    </tr>\n",
       "  </tbody>\n",
       "</table>\n",
       "</div>\n",
       "    <div class=\"colab-df-buttons\">\n",
       "\n",
       "  <div class=\"colab-df-container\">\n",
       "    <button class=\"colab-df-convert\" onclick=\"convertToInteractive('df-ba69b34e-5425-40bb-ac6c-ea13917134ca')\"\n",
       "            title=\"Convert this dataframe to an interactive table.\"\n",
       "            style=\"display:none;\">\n",
       "\n",
       "  <svg xmlns=\"http://www.w3.org/2000/svg\" height=\"24px\" viewBox=\"0 -960 960 960\">\n",
       "    <path d=\"M120-120v-720h720v720H120Zm60-500h600v-160H180v160Zm220 220h160v-160H400v160Zm0 220h160v-160H400v160ZM180-400h160v-160H180v160Zm440 0h160v-160H620v160ZM180-180h160v-160H180v160Zm440 0h160v-160H620v160Z\"/>\n",
       "  </svg>\n",
       "    </button>\n",
       "\n",
       "  <style>\n",
       "    .colab-df-container {\n",
       "      display:flex;\n",
       "      gap: 12px;\n",
       "    }\n",
       "\n",
       "    .colab-df-convert {\n",
       "      background-color: #E8F0FE;\n",
       "      border: none;\n",
       "      border-radius: 50%;\n",
       "      cursor: pointer;\n",
       "      display: none;\n",
       "      fill: #1967D2;\n",
       "      height: 32px;\n",
       "      padding: 0 0 0 0;\n",
       "      width: 32px;\n",
       "    }\n",
       "\n",
       "    .colab-df-convert:hover {\n",
       "      background-color: #E2EBFA;\n",
       "      box-shadow: 0px 1px 2px rgba(60, 64, 67, 0.3), 0px 1px 3px 1px rgba(60, 64, 67, 0.15);\n",
       "      fill: #174EA6;\n",
       "    }\n",
       "\n",
       "    .colab-df-buttons div {\n",
       "      margin-bottom: 4px;\n",
       "    }\n",
       "\n",
       "    [theme=dark] .colab-df-convert {\n",
       "      background-color: #3B4455;\n",
       "      fill: #D2E3FC;\n",
       "    }\n",
       "\n",
       "    [theme=dark] .colab-df-convert:hover {\n",
       "      background-color: #434B5C;\n",
       "      box-shadow: 0px 1px 3px 1px rgba(0, 0, 0, 0.15);\n",
       "      filter: drop-shadow(0px 1px 2px rgba(0, 0, 0, 0.3));\n",
       "      fill: #FFFFFF;\n",
       "    }\n",
       "  </style>\n",
       "\n",
       "    <script>\n",
       "      const buttonEl =\n",
       "        document.querySelector('#df-ba69b34e-5425-40bb-ac6c-ea13917134ca button.colab-df-convert');\n",
       "      buttonEl.style.display =\n",
       "        google.colab.kernel.accessAllowed ? 'block' : 'none';\n",
       "\n",
       "      async function convertToInteractive(key) {\n",
       "        const element = document.querySelector('#df-ba69b34e-5425-40bb-ac6c-ea13917134ca');\n",
       "        const dataTable =\n",
       "          await google.colab.kernel.invokeFunction('convertToInteractive',\n",
       "                                                    [key], {});\n",
       "        if (!dataTable) return;\n",
       "\n",
       "        const docLinkHtml = 'Like what you see? Visit the ' +\n",
       "          '<a target=\"_blank\" href=https://colab.research.google.com/notebooks/data_table.ipynb>data table notebook</a>'\n",
       "          + ' to learn more about interactive tables.';\n",
       "        element.innerHTML = '';\n",
       "        dataTable['output_type'] = 'display_data';\n",
       "        await google.colab.output.renderOutput(dataTable, element);\n",
       "        const docLink = document.createElement('div');\n",
       "        docLink.innerHTML = docLinkHtml;\n",
       "        element.appendChild(docLink);\n",
       "      }\n",
       "    </script>\n",
       "  </div>\n",
       "\n",
       "\n",
       "<div id=\"df-0f6484ce-95cf-4b56-b7f7-9587df107169\">\n",
       "  <button class=\"colab-df-quickchart\" onclick=\"quickchart('df-0f6484ce-95cf-4b56-b7f7-9587df107169')\"\n",
       "            title=\"Suggest charts\"\n",
       "            style=\"display:none;\">\n",
       "\n",
       "<svg xmlns=\"http://www.w3.org/2000/svg\" height=\"24px\"viewBox=\"0 0 24 24\"\n",
       "     width=\"24px\">\n",
       "    <g>\n",
       "        <path d=\"M19 3H5c-1.1 0-2 .9-2 2v14c0 1.1.9 2 2 2h14c1.1 0 2-.9 2-2V5c0-1.1-.9-2-2-2zM9 17H7v-7h2v7zm4 0h-2V7h2v10zm4 0h-2v-4h2v4z\"/>\n",
       "    </g>\n",
       "</svg>\n",
       "  </button>\n",
       "\n",
       "<style>\n",
       "  .colab-df-quickchart {\n",
       "      --bg-color: #E8F0FE;\n",
       "      --fill-color: #1967D2;\n",
       "      --hover-bg-color: #E2EBFA;\n",
       "      --hover-fill-color: #174EA6;\n",
       "      --disabled-fill-color: #AAA;\n",
       "      --disabled-bg-color: #DDD;\n",
       "  }\n",
       "\n",
       "  [theme=dark] .colab-df-quickchart {\n",
       "      --bg-color: #3B4455;\n",
       "      --fill-color: #D2E3FC;\n",
       "      --hover-bg-color: #434B5C;\n",
       "      --hover-fill-color: #FFFFFF;\n",
       "      --disabled-bg-color: #3B4455;\n",
       "      --disabled-fill-color: #666;\n",
       "  }\n",
       "\n",
       "  .colab-df-quickchart {\n",
       "    background-color: var(--bg-color);\n",
       "    border: none;\n",
       "    border-radius: 50%;\n",
       "    cursor: pointer;\n",
       "    display: none;\n",
       "    fill: var(--fill-color);\n",
       "    height: 32px;\n",
       "    padding: 0;\n",
       "    width: 32px;\n",
       "  }\n",
       "\n",
       "  .colab-df-quickchart:hover {\n",
       "    background-color: var(--hover-bg-color);\n",
       "    box-shadow: 0 1px 2px rgba(60, 64, 67, 0.3), 0 1px 3px 1px rgba(60, 64, 67, 0.15);\n",
       "    fill: var(--button-hover-fill-color);\n",
       "  }\n",
       "\n",
       "  .colab-df-quickchart-complete:disabled,\n",
       "  .colab-df-quickchart-complete:disabled:hover {\n",
       "    background-color: var(--disabled-bg-color);\n",
       "    fill: var(--disabled-fill-color);\n",
       "    box-shadow: none;\n",
       "  }\n",
       "\n",
       "  .colab-df-spinner {\n",
       "    border: 2px solid var(--fill-color);\n",
       "    border-color: transparent;\n",
       "    border-bottom-color: var(--fill-color);\n",
       "    animation:\n",
       "      spin 1s steps(1) infinite;\n",
       "  }\n",
       "\n",
       "  @keyframes spin {\n",
       "    0% {\n",
       "      border-color: transparent;\n",
       "      border-bottom-color: var(--fill-color);\n",
       "      border-left-color: var(--fill-color);\n",
       "    }\n",
       "    20% {\n",
       "      border-color: transparent;\n",
       "      border-left-color: var(--fill-color);\n",
       "      border-top-color: var(--fill-color);\n",
       "    }\n",
       "    30% {\n",
       "      border-color: transparent;\n",
       "      border-left-color: var(--fill-color);\n",
       "      border-top-color: var(--fill-color);\n",
       "      border-right-color: var(--fill-color);\n",
       "    }\n",
       "    40% {\n",
       "      border-color: transparent;\n",
       "      border-right-color: var(--fill-color);\n",
       "      border-top-color: var(--fill-color);\n",
       "    }\n",
       "    60% {\n",
       "      border-color: transparent;\n",
       "      border-right-color: var(--fill-color);\n",
       "    }\n",
       "    80% {\n",
       "      border-color: transparent;\n",
       "      border-right-color: var(--fill-color);\n",
       "      border-bottom-color: var(--fill-color);\n",
       "    }\n",
       "    90% {\n",
       "      border-color: transparent;\n",
       "      border-bottom-color: var(--fill-color);\n",
       "    }\n",
       "  }\n",
       "</style>\n",
       "\n",
       "  <script>\n",
       "    async function quickchart(key) {\n",
       "      const quickchartButtonEl =\n",
       "        document.querySelector('#' + key + ' button');\n",
       "      quickchartButtonEl.disabled = true;  // To prevent multiple clicks.\n",
       "      quickchartButtonEl.classList.add('colab-df-spinner');\n",
       "      try {\n",
       "        const charts = await google.colab.kernel.invokeFunction(\n",
       "            'suggestCharts', [key], {});\n",
       "      } catch (error) {\n",
       "        console.error('Error during call to suggestCharts:', error);\n",
       "      }\n",
       "      quickchartButtonEl.classList.remove('colab-df-spinner');\n",
       "      quickchartButtonEl.classList.add('colab-df-quickchart-complete');\n",
       "    }\n",
       "    (() => {\n",
       "      let quickchartButtonEl =\n",
       "        document.querySelector('#df-0f6484ce-95cf-4b56-b7f7-9587df107169 button');\n",
       "      quickchartButtonEl.style.display =\n",
       "        google.colab.kernel.accessAllowed ? 'block' : 'none';\n",
       "    })();\n",
       "  </script>\n",
       "</div>\n",
       "    </div>\n",
       "  </div>\n"
      ]
     },
     "metadata": {},
     "execution_count": 443
    }
   ],
   "source": [
    "df_usa.head()"
   ]
  },
  {
   "cell_type": "code",
   "execution_count": 444,
   "id": "94c02853-6157-4ccd-b06d-5d8d80fc45f1",
   "metadata": {
    "id": "94c02853-6157-4ccd-b06d-5d8d80fc45f1",
    "pycharm": {
     "name": "#%%\n"
    }
   },
   "outputs": [],
   "source": [
    "df_usa = df_usa.drop(index = 51, axis = 0)"
   ]
  },
  {
   "cell_type": "code",
   "source": [
    "#Rename to simply Inflation\n",
    "df_usa = df_usa.rename(columns={\"Inflation, consumer prices (annual %)\": \"Inflation\"})"
   ],
   "metadata": {
    "id": "8-N1X03Cdtr1",
    "pycharm": {
     "name": "#%%\n"
    }
   },
   "id": "8-N1X03Cdtr1",
   "execution_count": 445,
   "outputs": []
  },
  {
   "cell_type": "code",
   "execution_count": 446,
   "id": "b144a79b-cb68-4d37-8467-db1727b20bd9",
   "metadata": {
    "colab": {
     "base_uri": "https://localhost:8080/"
    },
    "id": "b144a79b-cb68-4d37-8467-db1727b20bd9",
    "outputId": "da3aacb2-7d6b-4125-f4cf-9ff49f5cdbb4",
    "pycharm": {
     "name": "#%%\n"
    }
   },
   "outputs": [
    {
     "output_type": "stream",
     "name": "stdout",
     "text": [
      "year - Series is not stationary\n",
      "Inflation - Series is not stationary\n",
      "Real interest rate (%) - Series is not stationary\n"
     ]
    }
   ],
   "source": [
    "for i in range(len(df_usa.columns)):\n",
    "  result = adfuller(df_usa[df_usa.columns[i]])\n",
    "\n",
    "  if result[1] > 0.05:\n",
    "    print('{} - Series is not stationary'.format(df_usa.columns[i]))\n",
    "  else:\n",
    "    print('{} - Series is stationary'.format(df_usa.columns[i]))"
   ]
  },
  {
   "cell_type": "code",
   "execution_count": 447,
   "id": "0a986921-e1c0-4585-883a-f7a46a65d9c1",
   "metadata": {
    "id": "0a986921-e1c0-4585-883a-f7a46a65d9c1",
    "pycharm": {
     "name": "#%%\n"
    }
   },
   "outputs": [],
   "source": [
    "# Assuming df is your DataFrame with columns 'Year', 'InterestRate', and 'Inflation'\n",
    "df_usa['Inflation_diff'] = df_usa['Inflation'].diff()"
   ]
  },
  {
   "cell_type": "code",
   "source": [
    "# Assuming df is your DataFrame with columns 'Year', 'InterestRate', and 'Inflation_diff'\n",
    "seasonal_lag = 12  # Assuming a monthly seasonality, adjust as needed\n",
    "df_usa['Inflation_seasonal_diff'] = df_usa['Inflation_diff'].diff(seasonal_lag)"
   ],
   "metadata": {
    "id": "zmmcYSIseyOE",
    "pycharm": {
     "name": "#%%\n"
    }
   },
   "id": "zmmcYSIseyOE",
   "execution_count": 448,
   "outputs": []
  },
  {
   "cell_type": "code",
   "source": [
    "# Assuming df is your DataFrame with columns 'Year', 'InterestRate', and 'Inflation_seasonal_diff'\n",
    "window_size = 5\n",
    "df_usa['Inflation_detrended'] = df_usa['Inflation_seasonal_diff'] - df_usa['Inflation_seasonal_diff'].rolling(window=window_size).mean()"
   ],
   "metadata": {
    "id": "GPFCx3bRe3pw",
    "pycharm": {
     "name": "#%%\n"
    }
   },
   "id": "GPFCx3bRe3pw",
   "execution_count": 449,
   "outputs": []
  },
  {
   "cell_type": "code",
   "source": [
    "df_usa = df_usa.dropna()  # Drop rows with missing values"
   ],
   "metadata": {
    "id": "-sJ2R4KtfHdr",
    "pycharm": {
     "name": "#%%\n"
    }
   },
   "id": "-sJ2R4KtfHdr",
   "execution_count": 450,
   "outputs": []
  },
  {
   "cell_type": "code",
   "source": [
    "c=df_usa.corr()\n",
    "sns.heatmap(c, cmap='tab10', linewidths='0.05', annot=True)\n",
    "plt.show()"
   ],
   "metadata": {
    "colab": {
     "base_uri": "https://localhost:8080/",
     "height": 822
    },
    "id": "g_mF8MkZ6XE2",
    "outputId": "da8e53b1-48d3-477d-b02d-b53b258bab70",
    "pycharm": {
     "name": "#%%\n"
    }
   },
   "id": "g_mF8MkZ6XE2",
   "execution_count": 451,
   "outputs": [
    {
     "output_type": "display_data",
     "data": {
      "text/plain": [
       "<Figure size 1000x800 with 2 Axes>"
      ],
      "image/png": "[encoded data removed]"
     },
     "metadata": {}
    }
   ]
  },
  {
   "cell_type": "code",
   "source": [
    "from sklearn.linear_model import LinearRegression\n",
    "from sklearn.model_selection import train_test_split\n",
    "from sklearn.metrics import mean_squared_error\n",
    "\n",
    "# Assuming df_usa is your DataFrame with columns 'Real interest rate (%)', 'year', and 'Inflation_detrended'\n",
    "X = df_usa[['Real interest rate (%)', 'year']]\n",
    "y = df_usa['Inflation']\n",
    "\n",
    "# Ensure that 'Inflation' is correctly named in your DataFrame\n",
    "# If there is still an issue, print the columns to verify the names\n",
    "# print(df_usa.columns)\n",
    "\n",
    "X_train, X_test, y_train, y_test = train_test_split(X, y, test_size=0.2, random_state=42)\n",
    "\n",
    "model = LinearRegression()\n",
    "model.fit(X_train, y_train)\n",
    "\n",
    "# Make predictions\n",
    "predictions = model.predict(X_test)\n",
    "\n",
    "# Evaluate the model\n",
    "mse = mean_squared_error(y_test, predictions)\n",
    "print(f'Mean Squared Error: {mse}')"
   ],
   "metadata": {
    "colab": {
     "base_uri": "https://localhost:8080/"
    },
    "id": "HTEFjSgDfMKh",
    "outputId": "e1e5b096-f223-4a2e-8733-a1f5792ada99",
    "pycharm": {
     "name": "#%%\n"
    }
   },
   "id": "HTEFjSgDfMKh",
   "execution_count": 452,
   "outputs": [
    {
     "output_type": "stream",
     "name": "stdout",
     "text": [
      "Mean Squared Error: 1.0021083655774083\n"
     ]
    }
   ]
  },
  {
   "cell_type": "code",
   "source": [
    "adf_test_result = adfuller(df_usa['Inflation'])\n",
    "\n",
    "print('ADF Statistic:', adf_test_result[0])\n",
    "print('p-value:', adf_test_result[1])\n",
    "print('Critical Values:', adf_test_result[4])\n",
    "\n",
    "# Check if the series is stationary based on the p-value\n",
    "if adf_test_result[1] <= 0.05:\n",
    "    print('The series is likely stationary.')\n",
    "else:\n",
    "    print('The series is likely non-stationary.')"
   ],
   "metadata": {
    "colab": {
     "base_uri": "https://localhost:8080/"
    },
    "id": "sbPKahcxiKLb",
    "outputId": "f8999277-c079-4088-de93-ff69b632375f",
    "pycharm": {
     "name": "#%%\n"
    }
   },
   "id": "sbPKahcxiKLb",
   "execution_count": 453,
   "outputs": [
    {
     "output_type": "stream",
     "name": "stdout",
     "text": [
      "ADF Statistic: -2.932548790547654\n",
      "p-value: 0.04169183208759931\n",
      "Critical Values: {'1%': -3.6461350877925254, '5%': -2.954126991123355, '10%': -2.6159676124885216}\n",
      "The series is likely stationary.\n"
     ]
    }
   ]
  },
  {
   "cell_type": "code",
   "source": [
    "df_usa.head()"
   ],
   "metadata": {
    "colab": {
     "base_uri": "https://localhost:8080/",
     "height": 206
    },
    "id": "oUErmvjLiS7C",
    "outputId": "9d947418-dd8d-4498-f5fe-88d00606ea07",
    "pycharm": {
     "name": "#%%\n"
    }
   },
   "id": "oUErmvjLiS7C",
   "execution_count": 454,
   "outputs": [
    {
     "output_type": "execute_result",
     "data": {
      "text/plain": [
       "    year  Inflation  Real interest rate (%)  Inflation_diff  \\\n",
       "17  1987   3.664563                5.592238        1.766515   \n",
       "18  1988   4.077741                5.590382        0.413178   \n",
       "19  1989   4.827003                6.690687        0.749262   \n",
       "20  1990   5.397956                6.039749        0.570953   \n",
       "21  1991   4.234964                4.915346       -1.162992   \n",
       "\n",
       "    Inflation_seasonal_diff  Inflation_detrended  \n",
       "17                 3.678173             4.832524  \n",
       "18                 3.811512             3.928860  \n",
       "19                -0.007609             0.532978  \n",
       "20                -0.558326            -0.638148  \n",
       "21                -4.786500            -5.213950  "
      ],
      "text/html": [
       "\n",
       "  <div id=\"df-175c7341-1d07-4718-8a0a-79fbcb351172\" class=\"colab-df-container\">\n",
       "    <div>\n",
       "<style scoped>\n",
       "    .dataframe tbody tr th:only-of-type {\n",
       "        vertical-align: middle;\n",
       "    }\n",
       "\n",
       "    .dataframe tbody tr th {\n",
       "        vertical-align: top;\n",
       "    }\n",
       "\n",
       "    .dataframe thead th {\n",
       "        text-align: right;\n",
       "    }\n",
       "</style>\n",
       "<table border=\"1\" class=\"dataframe\">\n",
       "  <thead>\n",
       "    <tr style=\"text-align: right;\">\n",
       "      <th></th>\n",
       "      <th>year</th>\n",
       "      <th>Inflation</th>\n",
       "      <th>Real interest rate (%)</th>\n",
       "      <th>Inflation_diff</th>\n",
       "      <th>Inflation_seasonal_diff</th>\n",
       "      <th>Inflation_detrended</th>\n",
       "    </tr>\n",
       "  </thead>\n",
       "  <tbody>\n",
       "    <tr>\n",
       "      <th>17</th>\n",
       "      <td>1987</td>\n",
       "      <td>3.664563</td>\n",
       "      <td>5.592238</td>\n",
       "      <td>1.766515</td>\n",
       "      <td>3.678173</td>\n",
       "      <td>4.832524</td>\n",
       "    </tr>\n",
       "    <tr>\n",
       "      <th>18</th>\n",
       "      <td>1988</td>\n",
       "      <td>4.077741</td>\n",
       "      <td>5.590382</td>\n",
       "      <td>0.413178</td>\n",
       "      <td>3.811512</td>\n",
       "      <td>3.928860</td>\n",
       "    </tr>\n",
       "    <tr>\n",
       "      <th>19</th>\n",
       "      <td>1989</td>\n",
       "      <td>4.827003</td>\n",
       "      <td>6.690687</td>\n",
       "      <td>0.749262</td>\n",
       "      <td>-0.007609</td>\n",
       "      <td>0.532978</td>\n",
       "    </tr>\n",
       "    <tr>\n",
       "      <th>20</th>\n",
       "      <td>1990</td>\n",
       "      <td>5.397956</td>\n",
       "      <td>6.039749</td>\n",
       "      <td>0.570953</td>\n",
       "      <td>-0.558326</td>\n",
       "      <td>-0.638148</td>\n",
       "    </tr>\n",
       "    <tr>\n",
       "      <th>21</th>\n",
       "      <td>1991</td>\n",
       "      <td>4.234964</td>\n",
       "      <td>4.915346</td>\n",
       "      <td>-1.162992</td>\n",
       "      <td>-4.786500</td>\n",
       "      <td>-5.213950</td>\n",
       "    </tr>\n",
       "  </tbody>\n",
       "</table>\n",
       "</div>\n",
       "    <div class=\"colab-df-buttons\">\n",
       "\n",
       "  <div class=\"colab-df-container\">\n",
       "    <button class=\"colab-df-convert\" onclick=\"convertToInteractive('df-175c7341-1d07-4718-8a0a-79fbcb351172')\"\n",
       "            title=\"Convert this dataframe to an interactive table.\"\n",
       "            style=\"display:none;\">\n",
       "\n",
       "  <svg xmlns=\"http://www.w3.org/2000/svg\" height=\"24px\" viewBox=\"0 -960 960 960\">\n",
       "    <path d=\"M120-120v-720h720v720H120Zm60-500h600v-160H180v160Zm220 220h160v-160H400v160Zm0 220h160v-160H400v160ZM180-400h160v-160H180v160Zm440 0h160v-160H620v160ZM180-180h160v-160H180v160Zm440 0h160v-160H620v160Z\"/>\n",
       "  </svg>\n",
       "    </button>\n",
       "\n",
       "  <style>\n",
       "    .colab-df-container {\n",
       "      display:flex;\n",
       "      gap: 12px;\n",
       "    }\n",
       "\n",
       "    .colab-df-convert {\n",
       "      background-color: #E8F0FE;\n",
       "      border: none;\n",
       "      border-radius: 50%;\n",
       "      cursor: pointer;\n",
       "      display: none;\n",
       "      fill: #1967D2;\n",
       "      height: 32px;\n",
       "      padding: 0 0 0 0;\n",
       "      width: 32px;\n",
       "    }\n",
       "\n",
       "    .colab-df-convert:hover {\n",
       "      background-color: #E2EBFA;\n",
       "      box-shadow: 0px 1px 2px rgba(60, 64, 67, 0.3), 0px 1px 3px 1px rgba(60, 64, 67, 0.15);\n",
       "      fill: #174EA6;\n",
       "    }\n",
       "\n",
       "    .colab-df-buttons div {\n",
       "      margin-bottom: 4px;\n",
       "    }\n",
       "\n",
       "    [theme=dark] .colab-df-convert {\n",
       "      background-color: #3B4455;\n",
       "      fill: #D2E3FC;\n",
       "    }\n",
       "\n",
       "    [theme=dark] .colab-df-convert:hover {\n",
       "      background-color: #434B5C;\n",
       "      box-shadow: 0px 1px 3px 1px rgba(0, 0, 0, 0.15);\n",
       "      filter: drop-shadow(0px 1px 2px rgba(0, 0, 0, 0.3));\n",
       "      fill: #FFFFFF;\n",
       "    }\n",
       "  </style>\n",
       "\n",
       "    <script>\n",
       "      const buttonEl =\n",
       "        document.querySelector('#df-175c7341-1d07-4718-8a0a-79fbcb351172 button.colab-df-convert');\n",
       "      buttonEl.style.display =\n",
       "        google.colab.kernel.accessAllowed ? 'block' : 'none';\n",
       "\n",
       "      async function convertToInteractive(key) {\n",
       "        const element = document.querySelector('#df-175c7341-1d07-4718-8a0a-79fbcb351172');\n",
       "        const dataTable =\n",
       "          await google.colab.kernel.invokeFunction('convertToInteractive',\n",
       "                                                    [key], {});\n",
       "        if (!dataTable) return;\n",
       "\n",
       "        const docLinkHtml = 'Like what you see? Visit the ' +\n",
       "          '<a target=\"_blank\" href=https://colab.research.google.com/notebooks/data_table.ipynb>data table notebook</a>'\n",
       "          + ' to learn more about interactive tables.';\n",
       "        element.innerHTML = '';\n",
       "        dataTable['output_type'] = 'display_data';\n",
       "        await google.colab.output.renderOutput(dataTable, element);\n",
       "        const docLink = document.createElement('div');\n",
       "        docLink.innerHTML = docLinkHtml;\n",
       "        element.appendChild(docLink);\n",
       "      }\n",
       "    </script>\n",
       "  </div>\n",
       "\n",
       "\n",
       "<div id=\"df-d56dae09-5c74-4e38-8ffe-a4bb4527189a\">\n",
       "  <button class=\"colab-df-quickchart\" onclick=\"quickchart('df-d56dae09-5c74-4e38-8ffe-a4bb4527189a')\"\n",
       "            title=\"Suggest charts\"\n",
       "            style=\"display:none;\">\n",
       "\n",
       "<svg xmlns=\"http://www.w3.org/2000/svg\" height=\"24px\"viewBox=\"0 0 24 24\"\n",
       "     width=\"24px\">\n",
       "    <g>\n",
       "        <path d=\"M19 3H5c-1.1 0-2 .9-2 2v14c0 1.1.9 2 2 2h14c1.1 0 2-.9 2-2V5c0-1.1-.9-2-2-2zM9 17H7v-7h2v7zm4 0h-2V7h2v10zm4 0h-2v-4h2v4z\"/>\n",
       "    </g>\n",
       "</svg>\n",
       "  </button>\n",
       "\n",
       "<style>\n",
       "  .colab-df-quickchart {\n",
       "      --bg-color: #E8F0FE;\n",
       "      --fill-color: #1967D2;\n",
       "      --hover-bg-color: #E2EBFA;\n",
       "      --hover-fill-color: #174EA6;\n",
       "      --disabled-fill-color: #AAA;\n",
       "      --disabled-bg-color: #DDD;\n",
       "  }\n",
       "\n",
       "  [theme=dark] .colab-df-quickchart {\n",
       "      --bg-color: #3B4455;\n",
       "      --fill-color: #D2E3FC;\n",
       "      --hover-bg-color: #434B5C;\n",
       "      --hover-fill-color: #FFFFFF;\n",
       "      --disabled-bg-color: #3B4455;\n",
       "      --disabled-fill-color: #666;\n",
       "  }\n",
       "\n",
       "  .colab-df-quickchart {\n",
       "    background-color: var(--bg-color);\n",
       "    border: none;\n",
       "    border-radius: 50%;\n",
       "    cursor: pointer;\n",
       "    display: none;\n",
       "    fill: var(--fill-color);\n",
       "    height: 32px;\n",
       "    padding: 0;\n",
       "    width: 32px;\n",
       "  }\n",
       "\n",
       "  .colab-df-quickchart:hover {\n",
       "    background-color: var(--hover-bg-color);\n",
       "    box-shadow: 0 1px 2px rgba(60, 64, 67, 0.3), 0 1px 3px 1px rgba(60, 64, 67, 0.15);\n",
       "    fill: var(--button-hover-fill-color);\n",
       "  }\n",
       "\n",
       "  .colab-df-quickchart-complete:disabled,\n",
       "  .colab-df-quickchart-complete:disabled:hover {\n",
       "    background-color: var(--disabled-bg-color);\n",
       "    fill: var(--disabled-fill-color);\n",
       "    box-shadow: none;\n",
       "  }\n",
       "\n",
       "  .colab-df-spinner {\n",
       "    border: 2px solid var(--fill-color);\n",
       "    border-color: transparent;\n",
       "    border-bottom-color: var(--fill-color);\n",
       "    animation:\n",
       "      spin 1s steps(1) infinite;\n",
       "  }\n",
       "\n",
       "  @keyframes spin {\n",
       "    0% {\n",
       "      border-color: transparent;\n",
       "      border-bottom-color: var(--fill-color);\n",
       "      border-left-color: var(--fill-color);\n",
       "    }\n",
       "    20% {\n",
       "      border-color: transparent;\n",
       "      border-left-color: var(--fill-color);\n",
       "      border-top-color: var(--fill-color);\n",
       "    }\n",
       "    30% {\n",
       "      border-color: transparent;\n",
       "      border-left-color: var(--fill-color);\n",
       "      border-top-color: var(--fill-color);\n",
       "      border-right-color: var(--fill-color);\n",
       "    }\n",
       "    40% {\n",
       "      border-color: transparent;\n",
       "      border-right-color: var(--fill-color);\n",
       "      border-top-color: var(--fill-color);\n",
       "    }\n",
       "    60% {\n",
       "      border-color: transparent;\n",
       "      border-right-color: var(--fill-color);\n",
       "    }\n",
       "    80% {\n",
       "      border-color: transparent;\n",
       "      border-right-color: var(--fill-color);\n",
       "      border-bottom-color: var(--fill-color);\n",
       "    }\n",
       "    90% {\n",
       "      border-color: transparent;\n",
       "      border-bottom-color: var(--fill-color);\n",
       "    }\n",
       "  }\n",
       "</style>\n",
       "\n",
       "  <script>\n",
       "    async function quickchart(key) {\n",
       "      const quickchartButtonEl =\n",
       "        document.querySelector('#' + key + ' button');\n",
       "      quickchartButtonEl.disabled = true;  // To prevent multiple clicks.\n",
       "      quickchartButtonEl.classList.add('colab-df-spinner');\n",
       "      try {\n",
       "        const charts = await google.colab.kernel.invokeFunction(\n",
       "            'suggestCharts', [key], {});\n",
       "      } catch (error) {\n",
       "        console.error('Error during call to suggestCharts:', error);\n",
       "      }\n",
       "      quickchartButtonEl.classList.remove('colab-df-spinner');\n",
       "      quickchartButtonEl.classList.add('colab-df-quickchart-complete');\n",
       "    }\n",
       "    (() => {\n",
       "      let quickchartButtonEl =\n",
       "        document.querySelector('#df-d56dae09-5c74-4e38-8ffe-a4bb4527189a button');\n",
       "      quickchartButtonEl.style.display =\n",
       "        google.colab.kernel.accessAllowed ? 'block' : 'none';\n",
       "    })();\n",
       "  </script>\n",
       "</div>\n",
       "    </div>\n",
       "  </div>\n"
      ]
     },
     "metadata": {},
     "execution_count": 454
    }
   ]
  },
  {
   "cell_type": "code",
   "source": [
    "# visualizes the relationship between two variables\n",
    "sns.scatterplot(data=df_usa, x=\"Real interest rate (%)\", y=\"Inflation\")"
   ],
   "metadata": {
    "colab": {
     "base_uri": "https://localhost:8080/",
     "height": 713
    },
    "id": "_hUezvGBMa2A",
    "outputId": "84b82d8a-fd29-4511-f4b0-0aefb50756ef",
    "pycharm": {
     "name": "#%%\n"
    }
   },
   "id": "_hUezvGBMa2A",
   "execution_count": 455,
   "outputs": [
    {
     "output_type": "execute_result",
     "data": {
      "text/plain": [
       "<Axes: xlabel='Real interest rate (%)', ylabel='Inflation'>"
      ]
     },
     "metadata": {},
     "execution_count": 455
    },
    {
     "output_type": "display_data",
     "data": {
      "text/plain": [
       "<Figure size 1000x800 with 1 Axes>"
      ],
      "image/png": "[encoded data removed]"
     },
     "metadata": {}
    }
   ]
  },
  {
   "cell_type": "code",
   "execution_count": 456,
   "id": "0ef81af9-a71c-40ca-93eb-e558d0ca96d1",
   "metadata": {
    "colab": {
     "base_uri": "https://localhost:8080/",
     "height": 564
    },
    "id": "0ef81af9-a71c-40ca-93eb-e558d0ca96d1",
    "outputId": "475faf60-19da-4eac-d499-5b3246397fc8",
    "pycharm": {
     "name": "#%%\n"
    }
   },
   "outputs": [
    {
     "output_type": "display_data",
     "data": {
      "text/plain": [
       "<Figure size 1000x600 with 1 Axes>"
      ],
      "image/png": "[encoded data removed]"
     },
     "metadata": {}
    }
   ],
   "source": [
    "year = df_usa['year']\n",
    "interest_rate = df_usa['Real interest rate (%)']\n",
    "inflation = df_usa['Inflation']\n",
    "\n",
    "# Create a line plot\n",
    "plt.figure(figsize=(10, 6))  # Set the figure size\n",
    "plt.plot(year, interest_rate, label='Real interest rate (%)', marker='o', linestyle='-')\n",
    "plt.plot(year, inflation, label='Inflation', marker='s', linestyle='--')\n",
    "\n",
    "# Add labels and a title\n",
    "plt.xlabel('year')\n",
    "plt.ylabel('Rate / %')\n",
    "plt.title('Real interest rate (%) and Inflation Over Time')\n",
    "\n",
    "# Add a legend\n",
    "plt.legend()\n",
    "\n",
    "# Show the plot\n",
    "plt.grid(True)  # Add grid lines\n",
    "plt.show()"
   ]
  },
  {
   "cell_type": "code",
   "source": [
    "#from statsmodels.tsa.api import VAR\n",
    "#from sklearn.metrics import mean_squared_error\n",
    "\n",
    "# Assuming df_usa is your DataFrame with columns 'Real interest rate (%)', 'year', and 'Inflation'\n",
    "# Split data into training and testing sets\n",
    "#train_size = int(len(df_usa) * 0.8)\n",
    "#train, test = df_usa.iloc[:train_size], df_usa.iloc[train_size:]\n",
    "\n",
    "# Fit the VAR model on the training set\n",
    "#model = VAR(train[['Real interest rate (%)', 'year', 'Inflation']])\n",
    "#results = model.fit(maxlags=10)  # Adjust as needed\n",
    "\n",
    "# Make predictions on the testing set\n",
    "#forecast = results.forecast(train[['Real interest rate (%)', 'year', 'Inflation']].values, steps=len(test))\n",
    "#forecast_df = pd.DataFrame(forecast, columns=['Real interest rate (%)', 'year', 'Inflation'])\n",
    "\n",
    "# Evaluate the model using Mean Squared Error (MSE)\n",
    "#mse = mean_squared_error(test['Inflation'], forecast_df['Inflation'])\n",
    "#print(f'Mean Squared Error: {mse}')\n",
    "\n",
    "# Plotting actual vs forecasted values\n",
    "#plt.plot(test['year'], test['Inflation'], label='Actual Inflation', marker='o')\n",
    "#plt.plot(test['year'], forecast_df['Inflation'], label='Forecasted Inflation', marker='o')\n",
    "##plt.title('Actual vs Forecasted Inflation Values')\n",
    "#plt.xlabel('Year')\n",
    "#plt.ylabel('Inflation')\n",
    "##plt.legend()\n",
    "#plt.grid(True)\n",
    "#plt.show()"
   ],
   "metadata": {
    "id": "1HNdkf_636FC",
    "pycharm": {
     "name": "#%%\n"
    }
   },
   "id": "1HNdkf_636FC",
   "execution_count": 457,
   "outputs": []
  },
  {
   "cell_type": "code",
   "source": [
    "#from sklearn.linear_model import LinearRegression\n",
    "#from sklearn.model_selection import train_test_split\n",
    "#from sklearn.metrics import mean_squared_error\n",
    "\n",
    "# Assuming df_usa is your DataFrame with columns 'Real interest rate (%)', 'year', and 'Inflation_detrended'\n",
    "##X = df_usa[['Real interest rate (%)', 'year']]\n",
    "#y = df_usa['Inflation']\n",
    "\n",
    "# Ensure that 'Inflation' is correctly named in your DataFrame\n",
    "# If there is still an issue, print the columns to verify the names\n",
    "# print(df_usa.columns)\n",
    "\n",
    "#X_train, X_test, y_train, y_test = train_test_split(X, y, test_size=0.2, random_state=42)\n",
    "\n",
    "#model = LinearRegression()\n",
    "#model.fit(X_train, y_train)"
   ],
   "metadata": {
    "id": "Y_Avn2rz3cL8",
    "pycharm": {
     "name": "#%%\n"
    }
   },
   "id": "Y_Avn2rz3cL8",
   "execution_count": 458,
   "outputs": []
  },
  {
   "cell_type": "code",
   "source": [
    "# Assuming 'forecast' is a NumPy array\n",
    "forecast_columns = ['Real interest rate (%)', 'year', 'Inflation']\n",
    "forecast_df = pd.DataFrame(data=forecast, columns=forecast_columns)\n",
    "\n",
    "# Round the 'year' values to integers\n",
    "forecast_df['year'] = forecast_df['year'].round().astype(int)\n",
    "\n",
    "# Display the forecast\n",
    "print(\"Forecasted Values for the Next 10 Steps:\")\n",
    "print(forecast_df)"
   ],
   "metadata": {
    "colab": {
     "base_uri": "https://localhost:8080/"
    },
    "id": "lFjraxnvAAB0",
    "outputId": "4a614756-af46-419f-b348-b8966d78d532",
    "pycharm": {
     "name": "#%%\n"
    }
   },
   "id": "lFjraxnvAAB0",
   "execution_count": 459,
   "outputs": [
    {
     "output_type": "stream",
     "name": "stdout",
     "text": [
      "Forecasted Values for the Next 10 Steps:\n",
      "   Real interest rate (%)  year  Inflation\n",
      "0               -0.513318  2021   1.521099\n",
      "1               -3.478313  2022  -0.530380\n",
      "2               -2.401733  2023   0.140136\n",
      "3                0.928030  2024   3.129182\n",
      "4                1.579106  2025   4.047990\n",
      "5                2.379084  2026   1.016317\n",
      "6               -1.378145  2027  -2.179924\n",
      "7               -1.864662  2028  -0.440315\n",
      "8               -1.636648  2029   2.743640\n",
      "9                1.734654  2030   1.672298\n"
     ]
    }
   ]
  },
  {
   "cell_type": "code",
   "source": [
    "# Assuming df_usa is your original DataFrame\n",
    "last_observed_coulmns = ['Real interest rate (%)', 'year', 'Inflation']\n",
    "last_observed_values = df_usa.tail(5)[['Real interest rate (%)', 'year', 'Inflation']]\n",
    "\n",
    "# Assuming forecast_df is the DataFrame containing the forecasted values\n",
    "forecasted_coulmns = ['Real interest rate (%)', 'year', 'Inflation']\n",
    "forecasted_values = forecast_df.head(5)[['Real interest rate (%)', 'year', 'Inflation']]\n",
    "\n",
    "# Combine the last 5 observed values with the forecasted values for the next 5 steps\n",
    "mixed_values = pd.concat([last_observed_values, forecasted_values])\n",
    "\n",
    "# Display the mixed values\n",
    "print(\"Mixed Values:\")\n",
    "print(mixed_values)"
   ],
   "metadata": {
    "colab": {
     "base_uri": "https://localhost:8080/"
    },
    "id": "bFt5-WS8D4kx",
    "outputId": "0699f8e3-ce55-422b-8482-a5bad8ec3331",
    "pycharm": {
     "name": "#%%\n"
    }
   },
   "id": "bFt5-WS8D4kx",
   "execution_count": 460,
   "outputs": [
    {
     "output_type": "stream",
     "name": "stdout",
     "text": [
      "Mixed Values:\n",
      "    Real interest rate (%)  year  Inflation\n",
      "46                2.436851  2016   1.261583\n",
      "47                2.175694  2017   2.130110\n",
      "48                2.444494  2018   2.442583\n",
      "49                3.436010  2019   1.812210\n",
      "50                2.311111  2020   1.233584\n",
      "0                -0.513318  2021   1.521099\n",
      "1                -3.478313  2022  -0.530380\n",
      "2                -2.401733  2023   0.140136\n",
      "3                 0.928030  2024   3.129182\n",
      "4                 1.579106  2025   4.047990\n"
     ]
    }
   ]
  },
  {
   "cell_type": "code",
   "source": [
    "import matplotlib.pyplot as plt\n",
    "\n",
    "# Assuming mixed_values is your DataFrame with observed and predicted values\n",
    "plt.plot(mixed_values['year'], mixed_values['Inflation'], label='Observed + Predicted Inflation', marker='o')\n",
    "plt.plot(mixed_values['year'], mixed_values['Real interest rate (%)'], label='Observed + Predicted Real Interest Rate', linestyle='dashed', marker='o')\n",
    "\n",
    "plt.xlabel('Year')\n",
    "plt.ylabel('Values')\n",
    "plt.title('Observed and Predicted Values Over Time')\n",
    "plt.legend()\n",
    "plt.show()"
   ],
   "metadata": {
    "colab": {
     "base_uri": "https://localhost:8080/",
     "height": 718
    },
    "id": "FNhGm_PfHGRz",
    "outputId": "ed721be7-2783-4447-fe58-f8dd484940c1",
    "pycharm": {
     "name": "#%%\n"
    }
   },
   "id": "FNhGm_PfHGRz",
   "execution_count": 461,
   "outputs": [
    {
     "output_type": "display_data",
     "data": {
      "text/plain": [
       "<Figure size 1000x800 with 1 Axes>"
      ],
      "image/png": "[encoded data removed]"
     },
     "metadata": {}
    }
   ]
  },
  {
   "cell_type": "code",
   "source": [
    "# Assuming df_usa is your original DataFrame\n",
    "last_observed_inflation = df_usa['Inflation'].tail(5)\n",
    "\n",
    "# Assuming forecast_df is the DataFrame containing the forecasted values\n",
    "forecasted_inflation = forecast_df['Inflation'].head(5)\n",
    "\n",
    "# Combine the last 5 observed values with the forecasted values for the next 5 steps\n",
    "mixed_inflation = pd.concat([last_observed_inflation, forecasted_inflation])\n",
    "\n",
    "# Display the mixed inflation values\n",
    "print(\"Mixed Inflation Values:\")\n",
    "print(mixed_inflation)"
   ],
   "metadata": {
    "colab": {
     "base_uri": "https://localhost:8080/"
    },
    "id": "KkdmM3rzBlyp",
    "outputId": "dcbe35b8-eb40-4d66-b927-8dac4be33900",
    "pycharm": {
     "name": "#%%\n"
    }
   },
   "id": "KkdmM3rzBlyp",
   "execution_count": 462,
   "outputs": [
    {
     "output_type": "stream",
     "name": "stdout",
     "text": [
      "Mixed Inflation Values:\n",
      "46    1.261583\n",
      "47    2.130110\n",
      "48    2.442583\n",
      "49    1.812210\n",
      "50    1.233584\n",
      "0     1.521099\n",
      "1    -0.530380\n",
      "2     0.140136\n",
      "3     3.129182\n",
      "4     4.047990\n",
      "Name: Inflation, dtype: float64\n"
     ]
    }
   ]
  },
  {
   "cell_type": "code",
   "source": [
    "# Assuming df_usa is your DataFrame with columns 'Real interest rate (%)', 'year', and 'Inflation'\n",
    "# Also assuming you have already trained your VAR model and obtained the forecast\n",
    "\n",
    "# Extract the lag order from the model\n",
    "lag_order = results.k_ar\n",
    "\n",
    "# Extract the last 'lag_order' observations for 'Real interest rate (%)', 'year', and 'Inflation'\n",
    "last_observations = df_usa[['Real interest rate (%)', 'year', 'Inflation']].iloc[-lag_order:]\n",
    "\n",
    "# Use the last observations to make a prediction for the next step\n",
    "prediction_next_step = results.forecast(last_observations.values, steps=1)\n",
    "\n",
    "# Extract the predicted value for 'Inflation'\n",
    "predicted_inflation = prediction_next_step[0, -1]\n",
    "\n",
    "# Display the values\n",
    "print(\"Last Observations:\")\n",
    "print(last_observations)\n",
    "print(\"\\nPredicted Inflation for the Next Step:\")\n",
    "print(predicted_inflation)\n",
    "\n",
    "# Plot the values\n",
    "categories = ['Inflation', 'Predicted Inflation']\n",
    "values = [last_observations['Inflation'].iloc[-1], predicted_inflation]\n",
    "\n",
    "plt.bar(categories, values, color=['blue', 'red'])\n",
    "plt.xlabel('Category')\n",
    "plt.ylabel('Values')\n",
    "plt.title('Actual vs Predicted Inflation')\n",
    "plt.show()"
   ],
   "metadata": {
    "colab": {
     "base_uri": "https://localhost:8080/",
     "height": 978
    },
    "id": "IiTN2n4JNLT8",
    "outputId": "73cdddfa-ad58-42db-c9bc-e878be3d696d",
    "pycharm": {
     "name": "#%%\n"
    }
   },
   "id": "IiTN2n4JNLT8",
   "execution_count": 463,
   "outputs": [
    {
     "output_type": "stream",
     "name": "stdout",
     "text": [
      "Last Observations:\n",
      "    Real interest rate (%)  year  Inflation\n",
      "41                1.137338  2011   3.156842\n",
      "42                1.307083  2012   2.069337\n",
      "43                1.469299  2013   1.464833\n",
      "44                1.374742  2014   1.622223\n",
      "45                2.285696  2015   0.118627\n",
      "46                2.436851  2016   1.261583\n",
      "47                2.175694  2017   2.130110\n",
      "48                2.444494  2018   2.442583\n",
      "49                3.436010  2019   1.812210\n",
      "50                2.311111  2020   1.233584\n",
      "\n",
      "Predicted Inflation for the Next Step:\n",
      "1.5210985460875763\n"
     ]
    },
    {
     "output_type": "display_data",
     "data": {
      "text/plain": [
       "<Figure size 1000x800 with 1 Axes>"
      ],
      "image/png": "[encoded data removed]"
     },
     "metadata": {}
    }
   ]
  }
 ],
 "metadata": {
  "kernelspec": {
   "display_name": "Python 3 (ipykernel)",
   "language": "python",
   "name": "python3"
  },
  "language_info": {
   "codemirror_mode": {
    "name": "ipython",
    "version": 3
   },
   "file_extension": ".py",
   "mimetype": "text/x-python",
   "name": "python",
   "nbconvert_exporter": "python",
   "pygments_lexer": "ipython3",
   "version": "3.10.13"
  },
  "colab": {
   "provenance": []
  }
 },
 "nbformat": 4,
 "nbformat_minor": 5
}