{
 "cells": [
  {
   "cell_type": "code",
   "execution_count": 1,
   "outputs": [
    {
     "name": "stdout",
     "output_type": "stream",
     "text": [
      "Mean values:\n",
      "μ(X) = 1.055547619047619\n",
      "μ(Y) = 19.150771428571428\n"
     ]
    }
   ],
   "source": [
    "# Q 4.3\n",
    "\n",
    "# a\n",
    "\n",
    "nla = 100\n",
    "μXla = 1.0579\n",
    "μYla = 18.191\n",
    "\n",
    "nny = 152\n",
    "μXny = 1.054\n",
    "μYny = 19.7822\n",
    "\n",
    "# Calculate the combined mean values\n",
    "μX = (nla * μXla + nny * μXny) / (nla + nny)\n",
    "μY = (nla * μYla + nny * μYny) / (nla + nny)\n",
    "\n",
    "print(\"Mean values:\")\n",
    "print(\"μ(X) =\", μX)\n",
    "print(\"μ(Y) =\", μY)"
   ],
   "metadata": {
    "collapsed": false,
    "pycharm": {
     "name": "#%%\n"
    }
   }
  },
  {
   "cell_type": "code",
   "execution_count": 2,
   "outputs": [
    {
     "name": "stdout",
     "output_type": "stream",
     "text": [
      "Variance values:\n",
      "σ^2(X) = 0.0003569962\n",
      "σ^2(Y) = 69.136\n"
     ]
    }
   ],
   "source": [
    "# b\n",
    "\n",
    "σ2Xla = 4.1948e-4\n",
    "σ2Yla = 80.763\n",
    "σ2Xny = 3.1603e-4\n",
    "σ2Yny = 61.513\n",
    "\n",
    "# Calculate the combined variance values\n",
    "σ2X = ((nla - 1) * σ2Xla + (nny - 1) * σ2Xny) / (nla + nny - 2)\n",
    "σ2Y = ((nla - 1) * σ2Yla + (nny - 1) * σ2Yny) / (nla + nny - 2)\n",
    "\n",
    "print(\"Variance values:\")\n",
    "print(\"σ^2(X) =\", σ2X)\n",
    "print(\"σ^2(Y) =\", σ2Y)"
   ],
   "metadata": {
    "collapsed": false,
    "pycharm": {
     "name": "#%%\n"
    }
   }
  },
  {
   "cell_type": "code",
   "execution_count": 3,
   "outputs": [
    {
     "name": "stdout",
     "output_type": "stream",
     "text": [
      "Covariance:\n",
      "cov(X, Y) = -0.1549608\n"
     ]
    }
   ],
   "source": [
    "# c\n",
    "\n",
    "covXlaYla = -0.179\n",
    "covXnyYny = -0.1392\n",
    "\n",
    "# Calculate the combined covariance\n",
    "covX = ((nla - 1) * covXlaYla + (nny - 1) * covXnyYny) / (nla + nny - 2)\n",
    "\n",
    "print(\"Covariance:\")\n",
    "print(\"cov(X, Y) =\", covX)"
   ],
   "metadata": {
    "collapsed": false,
    "pycharm": {
     "name": "#%%\n"
    }
   }
  },
  {
   "cell_type": "code",
   "execution_count": 4,
   "outputs": [
    {
     "name": "stdout",
     "output_type": "stream",
     "text": [
      "Correlation coefficient:\n",
      "ρ(X, Y) = -0.9863656250646042\n"
     ]
    }
   ],
   "source": [
    "# d\n",
    "\n",
    "import math\n",
    "\n",
    "# Calculate the correlation coefficient\n",
    "ρX = covX / (math.sqrt(σ2X) * math.sqrt(σ2Y))\n",
    "\n",
    "print(\"Correlation coefficient:\")\n",
    "print(\"ρ(X, Y) =\", ρX)"
   ],
   "metadata": {
    "collapsed": false,
    "pycharm": {
     "name": "#%%\n"
    }
   }
  },
  {
   "cell_type": "code",
   "execution_count": 5,
   "outputs": [
    {
     "name": "stdout",
     "output_type": "stream",
     "text": [
      "Concordance correlation coefficient:\n",
      "ρc(X, Y) = -0.09125318311907017\n"
     ]
    }
   ],
   "source": [
    "# e\n",
    "\n",
    "from scipy.stats import pearsonr\n",
    "\n",
    "# Calculate the concordance correlation coefficient\n",
    "ccc = (2 * ρX * μX * μY) / (μX ** 2 + μY ** 2 + σ2X + σ2Y)\n",
    "print(\"Concordance correlation coefficient:\")\n",
    "print(\"ρc(X, Y) =\", ccc)"
   ],
   "metadata": {
    "collapsed": false,
    "pycharm": {
     "name": "#%%\n"
    }
   }
  },
  {
   "cell_type": "code",
   "execution_count": 6,
   "outputs": [
    {
     "name": "stdout",
     "output_type": "stream",
     "text": [
      "Mean values (after the person moved):\n",
      "μ(Xla - {1.0484}) = 1.0673\n",
      "μ(Yla - {22.2}) = 13.866666666666667\n",
      "μ(Xny ∪ {1.0484}) = 1.0417555555555558\n",
      "μ(Yny ∪ {22.2}) = 16.333333333333332\n"
     ]
    }
   ],
   "source": [
    "# f\n",
    "\n",
    "# Original data\n",
    "Xla = [1.0708, 1.0853, 1.0414, 1.0751, 1.0730, 1.0582]\n",
    "Yla = [12.3, 6.1, 25.3, 10.4, 11.3, 17.8]\n",
    "Xny = [1.0506, 1.0524, 1.0530, 1.0480, 1.0236, 1.0328, 1.0399, 1.0271]\n",
    "Yny = [1.2, 0.4, 0.1, 2.3, 33.6, 29.3, 26.0, 31.9]\n",
    "\n",
    "# Remove the person's data from LA (1.0484, 22.2)\n",
    "Xla_updated = [x for x in Xla if x != 1.0484]\n",
    "Yla_updated = [y for y in Yla if y != 22.2]\n",
    "\n",
    "# Add the person's data to NYC\n",
    "Xny_updated = Xny + [1.0484]\n",
    "Yny_updated = Yny + [22.2]\n",
    "\n",
    "# Calculate the mean values\n",
    "μXla_updated = sum(Xla_updated) / len(Xla_updated)\n",
    "μYla_updated = sum(Yla_updated) / len(Yla_updated)\n",
    "μXny_updated = sum(Xny_updated) / len(Xny_updated)\n",
    "μYny_updated = sum(Yny_updated) / len(Yny_updated)\n",
    "\n",
    "print(\"Mean values (after the person moved):\")\n",
    "print(\"μ(Xla - {1.0484}) =\", μXla_updated)\n",
    "print(\"μ(Yla - {22.2}) =\", μYla_updated)\n",
    "print(\"μ(Xny ∪ {1.0484}) =\", μXny_updated)\n",
    "print(\"μ(Yny ∪ {22.2}) =\", μYny_updated)"
   ],
   "metadata": {
    "collapsed": false,
    "pycharm": {
     "name": "#%%\n"
    }
   }
  },
  {
   "cell_type": "code",
   "execution_count": 7,
   "outputs": [
    {
     "name": "stdout",
     "output_type": "stream",
     "text": [
      "Variance values (after the person moved):\n",
      "σ^2(Xla - {1.0484}) = 0.000236639999999998\n",
      "σ^2(Yla - {22.2}) = 45.51466666666667\n",
      "σ^2(Xny ∪ {1.0484}) = 0.0001286452777777778\n",
      "σ^2(Yny ∪ {22.2}) = 222.475\n"
     ]
    }
   ],
   "source": [
    "# g\n",
    "\n",
    "from statistics import variance\n",
    "\n",
    "# Calculate the variance values\n",
    "σ2Xla_updated = variance(Xla_updated)\n",
    "σ2Yla_updated = variance(Yla_updated)\n",
    "σ2Xny_updated = variance(Xny_updated)\n",
    "σ2Yny_updated = variance(Yny_updated)\n",
    "\n",
    "print(\"Variance values (after the person moved):\")\n",
    "print(\"σ^2(Xla - {1.0484}) =\", σ2Xla_updated)\n",
    "print(\"σ^2(Yla - {22.2}) =\", σ2Yla_updated)\n",
    "print(\"σ^2(Xny ∪ {1.0484}) =\", σ2Xny_updated)\n",
    "print(\"σ^2(Yny ∪ {22.2}) =\", σ2Yny_updated)"
   ],
   "metadata": {
    "collapsed": false,
    "pycharm": {
     "name": "#%%\n"
    }
   }
  },
  {
   "cell_type": "code",
   "execution_count": 8,
   "outputs": [
    {
     "name": "stdout",
     "output_type": "stream",
     "text": [
      "Mean values (full dataset):\n",
      "μ(X) = 1.0522285714285713\n",
      "μ(Y) = 14.85714285714286\n",
      "Variance values (full dataset):\n",
      "σ^2(X) = 0.00034982681318681245\n",
      "σ^2(Y) = 152.22725274725275\n",
      "Covariance (full dataset):\n",
      "cov(X, Y) = -0.148444835164835\n",
      "Correlation coefficient (full dataset):\n",
      "ρ(X, Y) = -0.6432685813850205\n",
      "Concordance correlation coefficient (full dataset):\n",
      "ρc(X, Y) = -0.05376695572967108\n"
     ]
    }
   ],
   "source": [
    "# i\n",
    "\n",
    "# Answear: In summary, using the full dataset provides more accurate and reliable statistical measures as it includes a larger and more comprehensive set of data points from both LA and NYC. The partial datasets can introduce bias and may not fully capture the characteristics of the entire population.\n",
    "\n",
    "# Full dataset\n",
    "X_full = Xla + Xny\n",
    "Y_full = Yla + Yny\n",
    "\n",
    "# Calculate the mean values for the full dataset\n",
    "μX_full = sum(X_full) / len(X_full)\n",
    "μY_full = sum(Y_full) / len(Y_full)\n",
    "\n",
    "print(\"Mean values (full dataset):\")\n",
    "print(\"μ(X) =\", μX_full)\n",
    "print(\"μ(Y) =\", μY_full)\n",
    "\n",
    "from statistics import variance\n",
    "\n",
    "# Calculate the variance values for the full dataset\n",
    "σ2X_full = variance(X_full)\n",
    "σ2Y_full = variance(Y_full)\n",
    "\n",
    "print(\"Variance values (full dataset):\")\n",
    "print(\"σ^2(X) =\", σ2X_full)\n",
    "print(\"σ^2(Y) =\", σ2Y_full)\n",
    "\n",
    "# Calculate the covariance for the full dataset\n",
    "covX_fullY_full = sum((x - μX_full) * (y - μY_full) for x, y in zip(X_full, Y_full)) / (len(X_full) - 1)\n",
    "\n",
    "print(\"Covariance (full dataset):\")\n",
    "print(\"cov(X, Y) =\", covX_fullY_full)\n",
    "\n",
    "import math\n",
    "\n",
    "# Calculate the correlation coefficient for the full dataset\n",
    "ρX_full = covX_fullY_full / (math.sqrt(σ2X_full) * math.sqrt(σ2Y_full))\n",
    "\n",
    "print(\"Correlation coefficient (full dataset):\")\n",
    "print(\"ρ(X, Y) =\", ρX_full)\n",
    "\n",
    "from scipy.stats import pearsonr\n",
    "\n",
    "# Calculate the concordance correlation coefficient for the full dataset\n",
    "ccc_full = (2 * ρX_full * μX_full * μY_full) / (μX_full ** 2 + μY_full ** 2 + σ2X_full + σ2Y_full)\n",
    "\n",
    "print(\"Concordance correlation coefficient (full dataset):\")\n",
    "print(\"ρc(X, Y) =\", ccc_full)"
   ],
   "metadata": {
    "collapsed": false,
    "pycharm": {
     "name": "#%%\n"
    }
   }
  },
  {
   "cell_type": "code",
   "execution_count": 11,
   "outputs": [
    {
     "name": "stdout",
     "output_type": "stream",
     "text": [
      "a) Nearest Neighbor Classifier (L2 distance) classifies q as: positive\n",
      "b) (k = 3)-NN (L2 distance) classifies q as: positive\n",
      "d) Nearest Neighbor Classifier (L2 distance) on normalized data classifies q as: positive\n",
      "e) (k = 3)-NN (L2 distance) on normalized data classifies q as: negative\n",
      "f) (p = 2) Distance Weighted (k = 3)-NN on normalized data classifies q as: positive\n"
     ]
    }
   ],
   "source": [
    "import numpy as np\n",
    "\n",
    "# Define the dataset\n",
    "data = np.array([\n",
    "    [33.6, 0.627, 1],  # r1, positive\n",
    "    [37.7, 0.151, 1],  # r2, positive\n",
    "    [28.2, 1.282, 1],  # r3, positive\n",
    "    [34.9, 0.825, 1],  # r4, positive\n",
    "    [29.9, 0.210, 0],  # r5, negative\n",
    "    [23.3, 0.560, 0],  # r6, negative\n",
    "    [39.0, 0.190, 0]   # r7, negative\n",
    "])\n",
    "\n",
    "# Define the query instance\n",
    "q = np.array([34, 0.2])\n",
    "\n",
    "# a) Nearest Neighbor Classifier with Euclidean L2 distance\n",
    "distances = np.sqrt(np.sum((data[:, :2] - q) ** 2, axis=1))\n",
    "nearest_neighbor_index = np.argmin(distances)\n",
    "nearest_neighbor_class = data[nearest_neighbor_index, 2]\n",
    "print(\"a) Nearest Neighbor Classifier (L2 distance) classifies q as:\", \"positive\" if nearest_neighbor_class == 1 else \"negative\")\n",
    "\n",
    "# b) (k = 3)-NN with Euclidean L2 distance\n",
    "k = 3\n",
    "k_nearest_indices = np.argpartition(distances, k)[:k]\n",
    "k_nearest_classes = data[k_nearest_indices, 2]\n",
    "predicted_class = 1 if np.sum(k_nearest_classes) > k / 2 else 0\n",
    "print(\"b) (k = 3)-NN (L2 distance) classifies q as:\", \"positive\" if predicted_class == 1 else \"negative\")\n",
    "\n",
    "# c) Normalize the dataset using standardization\n",
    "mean_f1 = np.mean(data[:, 0])\n",
    "stddev_f1 = np.std(data[:, 0])\n",
    "mean_f2 = np.mean(data[:, 1])\n",
    "stddev_f2 = np.std(data[:, 1])\n",
    "\n",
    "normalized_data = (data - [mean_f1, mean_f2, 0]) / [stddev_f1, stddev_f2, 1]\n",
    "\n",
    "# d) Nearest Neighbor Classifier with Euclidean L2 distance on normalized dataset\n",
    "normalized_q = (q - [mean_f1, mean_f2]) / [stddev_f1, stddev_f2]\n",
    "normalized_distances = np.sqrt(np.sum((normalized_data[:, :2] - normalized_q) ** 2, axis=1))\n",
    "normalized_nearest_neighbor_index = np.argmin(normalized_distances)\n",
    "normalized_nearest_neighbor_class = normalized_data[normalized_nearest_neighbor_index, 2]\n",
    "print(\"d) Nearest Neighbor Classifier (L2 distance) on normalized data classifies q as:\", \"positive\" if normalized_nearest_neighbor_class == 1 else \"negative\")\n",
    "\n",
    "# e) (k = 3)-NN with Euclidean L2 distance on normalized dataset\n",
    "k_normalized_nearest_indices = np.argpartition(normalized_distances, k)[:k]\n",
    "k_normalized_nearest_classes = normalized_data[k_normalized_nearest_indices, 2]\n",
    "normalized_predicted_class = 1 if np.sum(k_normalized_nearest_classes) > k / 2 else 0\n",
    "print(\"e) (k = 3)-NN (L2 distance) on normalized data classifies q as:\", \"positive\" if normalized_predicted_class == 1 else \"negative\")\n",
    "\n",
    "# f) (p = 2) Distance Weighted (k = 3)-NN on normalized dataset\n",
    "weights = 1 / (normalized_distances[k_normalized_nearest_indices] + 1e-6)\n",
    "weighted_sum = np.sum(weights * k_normalized_nearest_classes)\n",
    "weighted_class = 1 if weighted_sum > 0.5 else 0\n",
    "print(\"f) (p = 2) Distance Weighted (k = 3)-NN on normalized data classifies q as:\", \"positive\" if weighted_class == 1 else \"negative\")\n"
   ],
   "metadata": {
    "collapsed": false,
    "pycharm": {
     "name": "#%%\n"
    }
   }
  },
  {
   "cell_type": "code",
   "execution_count": null,
   "outputs": [],
   "source": [],
   "metadata": {
    "collapsed": false,
    "pycharm": {
     "name": "#%%\n"
    }
   }
  }
 ],
 "metadata": {
  "kernelspec": {
   "display_name": "Python 3",
   "language": "python",
   "name": "python3"
  },
  "language_info": {
   "codemirror_mode": {
    "name": "ipython",
    "version": 2
   },
   "file_extension": ".py",
   "mimetype": "text/x-python",
   "name": "python",
   "nbconvert_exporter": "python",
   "pygments_lexer": "ipython2",
   "version": "2.7.6"
  }
 },
 "nbformat": 4,
 "nbformat_minor": 0
}