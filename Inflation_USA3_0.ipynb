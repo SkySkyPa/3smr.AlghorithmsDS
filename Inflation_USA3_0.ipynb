{
 "cells": [
  {
   "cell_type": "code",
   "execution_count": 83,
   "id": "cef67739-2374-42ee-8d73-838f26556f16",
   "metadata": {
    "id": "cef67739-2374-42ee-8d73-838f26556f16",
    "pycharm": {
     "name": "#%%\n"
    }
   },
   "outputs": [],
   "source": [
    "import pandas as pd\n",
    "import numpy as np\n",
    "import matplotlib as mpl\n",
    "import matplotlib.pyplot as plt\n",
    "from statsmodels.tsa.arima_model import ARIMA\n",
    "import datetime\n",
    "import seaborn as sns\n",
    "\n",
    "from statsmodels.tsa.stattools import grangercausalitytests\n",
    "from statsmodels.tsa.stattools import adfuller\n",
    "import statsmodels.api as sample_data\n",
    "from statsmodels.tsa.api import VAR\n",
    "from sklearn.metrics import mean_absolute_error, mean_squared_error\n",
    "import math\n",
    "\n",
    "\n",
    "mpl.rcParams['figure.figsize'] = (10, 8)\n",
    "mpl.rcParams['axes.grid'] = False"
   ]
  },
  {
   "cell_type": "code",
   "execution_count": 84,
   "id": "505ea3ff-43f1-41e8-8c0e-9a5387f569fe",
   "metadata": {
    "id": "505ea3ff-43f1-41e8-8c0e-9a5387f569fe",
    "pycharm": {
     "name": "#%%\n"
    }
   },
   "outputs": [],
   "source": [
    "df = pd.read_csv('inflation interest unemployment.csv')"
   ]
  },
  {
   "cell_type": "code",
   "execution_count": 85,
   "id": "9c5b1dc3-d147-482a-a7c5-4380f871c85f",
   "metadata": {
    "id": "9c5b1dc3-d147-482a-a7c5-4380f871c85f",
    "pycharm": {
     "name": "#%%\n"
    }
   },
   "outputs": [],
   "source": [
    "df_usa = df[df['country'] == 'United States']"
   ]
  },
  {
   "cell_type": "code",
   "execution_count": 86,
   "id": "ab5ba350-fe5f-4a40-ac70-e0b6fc5b11c8",
   "metadata": {
    "colab": {
     "base_uri": "https://localhost:8080/",
     "height": 328
    },
    "id": "ab5ba350-fe5f-4a40-ac70-e0b6fc5b11c8",
    "outputId": "2746fe0f-f5ce-4d26-a771-c04ff7b53522",
    "pycharm": {
     "name": "#%%\n"
    }
   },
   "outputs": [
    {
     "output_type": "execute_result",
     "data": {
      "text/plain": [
       "             country  year  Inflation, consumer prices (annual %)  \\\n",
       "13156  United States  1970                               5.838255   \n",
       "13157  United States  1971                               4.292767   \n",
       "13158  United States  1972                               3.272278   \n",
       "13159  United States  1973                               6.177760   \n",
       "13160  United States  1974                              11.054805   \n",
       "\n",
       "       Inflation, GDP deflator (annual %)  Real interest rate (%)  \\\n",
       "13156                            5.602170                2.185400   \n",
       "13157                            5.069167                0.622605   \n",
       "13158                            4.322751                0.887229   \n",
       "13159                            5.479881                2.409735   \n",
       "13160                            8.998695                1.651064   \n",
       "\n",
       "       Deposit interest rate (%)  Lending interest rate (%)  \\\n",
       "13156                        NaN                   7.910000   \n",
       "13157                        NaN                   5.723333   \n",
       "13158                        NaN                   5.248333   \n",
       "13159                        NaN                   8.021667   \n",
       "13160                        NaN                  10.798333   \n",
       "\n",
       "       Unemployment, total (% of total labor force) (national estimate)  \\\n",
       "13156                                                4.9                  \n",
       "13157                                                5.9                  \n",
       "13158                                                5.6                  \n",
       "13159                                                4.9                  \n",
       "13160                                                5.6                  \n",
       "\n",
       "       Unemployment, total (% of total labor force) (modeled ILO estimate)  \\\n",
       "13156                                                NaN                     \n",
       "13157                                                NaN                     \n",
       "13158                                                NaN                     \n",
       "13159                                                NaN                     \n",
       "13160                                                NaN                     \n",
       "\n",
       "      iso3c iso2c adminregion  incomeLevel  \n",
       "13156   USA    US         NaN  High income  \n",
       "13157   USA    US         NaN  High income  \n",
       "13158   USA    US         NaN  High income  \n",
       "13159   USA    US         NaN  High income  \n",
       "13160   USA    US         NaN  High income  "
      ],
      "text/html": [
       "\n",
       "  <div id=\"df-a7581d9e-346f-4397-812a-e922e717b364\" class=\"colab-df-container\">\n",
       "    <div>\n",
       "<style scoped>\n",
       "    .dataframe tbody tr th:only-of-type {\n",
       "        vertical-align: middle;\n",
       "    }\n",
       "\n",
       "    .dataframe tbody tr th {\n",
       "        vertical-align: top;\n",
       "    }\n",
       "\n",
       "    .dataframe thead th {\n",
       "        text-align: right;\n",
       "    }\n",
       "</style>\n",
       "<table border=\"1\" class=\"dataframe\">\n",
       "  <thead>\n",
       "    <tr style=\"text-align: right;\">\n",
       "      <th></th>\n",
       "      <th>country</th>\n",
       "      <th>year</th>\n",
       "      <th>Inflation, consumer prices (annual %)</th>\n",
       "      <th>Inflation, GDP deflator (annual %)</th>\n",
       "      <th>Real interest rate (%)</th>\n",
       "      <th>Deposit interest rate (%)</th>\n",
       "      <th>Lending interest rate (%)</th>\n",
       "      <th>Unemployment, total (% of total labor force) (national estimate)</th>\n",
       "      <th>Unemployment, total (% of total labor force) (modeled ILO estimate)</th>\n",
       "      <th>iso3c</th>\n",
       "      <th>iso2c</th>\n",
       "      <th>adminregion</th>\n",
       "      <th>incomeLevel</th>\n",
       "    </tr>\n",
       "  </thead>\n",
       "  <tbody>\n",
       "    <tr>\n",
       "      <th>13156</th>\n",
       "      <td>United States</td>\n",
       "      <td>1970</td>\n",
       "      <td>5.838255</td>\n",
       "      <td>5.602170</td>\n",
       "      <td>2.185400</td>\n",
       "      <td>NaN</td>\n",
       "      <td>7.910000</td>\n",
       "      <td>4.9</td>\n",
       "      <td>NaN</td>\n",
       "      <td>USA</td>\n",
       "      <td>US</td>\n",
       "      <td>NaN</td>\n",
       "      <td>High income</td>\n",
       "    </tr>\n",
       "    <tr>\n",
       "      <th>13157</th>\n",
       "      <td>United States</td>\n",
       "      <td>1971</td>\n",
       "      <td>4.292767</td>\n",
       "      <td>5.069167</td>\n",
       "      <td>0.622605</td>\n",
       "      <td>NaN</td>\n",
       "      <td>5.723333</td>\n",
       "      <td>5.9</td>\n",
       "      <td>NaN</td>\n",
       "      <td>USA</td>\n",
       "      <td>US</td>\n",
       "      <td>NaN</td>\n",
       "      <td>High income</td>\n",
       "    </tr>\n",
       "    <tr>\n",
       "      <th>13158</th>\n",
       "      <td>United States</td>\n",
       "      <td>1972</td>\n",
       "      <td>3.272278</td>\n",
       "      <td>4.322751</td>\n",
       "      <td>0.887229</td>\n",
       "      <td>NaN</td>\n",
       "      <td>5.248333</td>\n",
       "      <td>5.6</td>\n",
       "      <td>NaN</td>\n",
       "      <td>USA</td>\n",
       "      <td>US</td>\n",
       "      <td>NaN</td>\n",
       "      <td>High income</td>\n",
       "    </tr>\n",
       "    <tr>\n",
       "      <th>13159</th>\n",
       "      <td>United States</td>\n",
       "      <td>1973</td>\n",
       "      <td>6.177760</td>\n",
       "      <td>5.479881</td>\n",
       "      <td>2.409735</td>\n",
       "      <td>NaN</td>\n",
       "      <td>8.021667</td>\n",
       "      <td>4.9</td>\n",
       "      <td>NaN</td>\n",
       "      <td>USA</td>\n",
       "      <td>US</td>\n",
       "      <td>NaN</td>\n",
       "      <td>High income</td>\n",
       "    </tr>\n",
       "    <tr>\n",
       "      <th>13160</th>\n",
       "      <td>United States</td>\n",
       "      <td>1974</td>\n",
       "      <td>11.054805</td>\n",
       "      <td>8.998695</td>\n",
       "      <td>1.651064</td>\n",
       "      <td>NaN</td>\n",
       "      <td>10.798333</td>\n",
       "      <td>5.6</td>\n",
       "      <td>NaN</td>\n",
       "      <td>USA</td>\n",
       "      <td>US</td>\n",
       "      <td>NaN</td>\n",
       "      <td>High income</td>\n",
       "    </tr>\n",
       "  </tbody>\n",
       "</table>\n",
       "</div>\n",
       "    <div class=\"colab-df-buttons\">\n",
       "\n",
       "  <div class=\"colab-df-container\">\n",
       "    <button class=\"colab-df-convert\" onclick=\"convertToInteractive('df-a7581d9e-346f-4397-812a-e922e717b364')\"\n",
       "            title=\"Convert this dataframe to an interactive table.\"\n",
       "            style=\"display:none;\">\n",
       "\n",
       "  <svg xmlns=\"http://www.w3.org/2000/svg\" height=\"24px\" viewBox=\"0 -960 960 960\">\n",
       "    <path d=\"M120-120v-720h720v720H120Zm60-500h600v-160H180v160Zm220 220h160v-160H400v160Zm0 220h160v-160H400v160ZM180-400h160v-160H180v160Zm440 0h160v-160H620v160ZM180-180h160v-160H180v160Zm440 0h160v-160H620v160Z\"/>\n",
       "  </svg>\n",
       "    </button>\n",
       "\n",
       "  <style>\n",
       "    .colab-df-container {\n",
       "      display:flex;\n",
       "      gap: 12px;\n",
       "    }\n",
       "\n",
       "    .colab-df-convert {\n",
       "      background-color: #E8F0FE;\n",
       "      border: none;\n",
       "      border-radius: 50%;\n",
       "      cursor: pointer;\n",
       "      display: none;\n",
       "      fill: #1967D2;\n",
       "      height: 32px;\n",
       "      padding: 0 0 0 0;\n",
       "      width: 32px;\n",
       "    }\n",
       "\n",
       "    .colab-df-convert:hover {\n",
       "      background-color: #E2EBFA;\n",
       "      box-shadow: 0px 1px 2px rgba(60, 64, 67, 0.3), 0px 1px 3px 1px rgba(60, 64, 67, 0.15);\n",
       "      fill: #174EA6;\n",
       "    }\n",
       "\n",
       "    .colab-df-buttons div {\n",
       "      margin-bottom: 4px;\n",
       "    }\n",
       "\n",
       "    [theme=dark] .colab-df-convert {\n",
       "      background-color: #3B4455;\n",
       "      fill: #D2E3FC;\n",
       "    }\n",
       "\n",
       "    [theme=dark] .colab-df-convert:hover {\n",
       "      background-color: #434B5C;\n",
       "      box-shadow: 0px 1px 3px 1px rgba(0, 0, 0, 0.15);\n",
       "      filter: drop-shadow(0px 1px 2px rgba(0, 0, 0, 0.3));\n",
       "      fill: #FFFFFF;\n",
       "    }\n",
       "  </style>\n",
       "\n",
       "    <script>\n",
       "      const buttonEl =\n",
       "        document.querySelector('#df-a7581d9e-346f-4397-812a-e922e717b364 button.colab-df-convert');\n",
       "      buttonEl.style.display =\n",
       "        google.colab.kernel.accessAllowed ? 'block' : 'none';\n",
       "\n",
       "      async function convertToInteractive(key) {\n",
       "        const element = document.querySelector('#df-a7581d9e-346f-4397-812a-e922e717b364');\n",
       "        const dataTable =\n",
       "          await google.colab.kernel.invokeFunction('convertToInteractive',\n",
       "                                                    [key], {});\n",
       "        if (!dataTable) return;\n",
       "\n",
       "        const docLinkHtml = 'Like what you see? Visit the ' +\n",
       "          '<a target=\"_blank\" href=https://colab.research.google.com/notebooks/data_table.ipynb>data table notebook</a>'\n",
       "          + ' to learn more about interactive tables.';\n",
       "        element.innerHTML = '';\n",
       "        dataTable['output_type'] = 'display_data';\n",
       "        await google.colab.output.renderOutput(dataTable, element);\n",
       "        const docLink = document.createElement('div');\n",
       "        docLink.innerHTML = docLinkHtml;\n",
       "        element.appendChild(docLink);\n",
       "      }\n",
       "    </script>\n",
       "  </div>\n",
       "\n",
       "\n",
       "<div id=\"df-377ebbd4-3d06-4c75-977c-99aed417a70c\">\n",
       "  <button class=\"colab-df-quickchart\" onclick=\"quickchart('df-377ebbd4-3d06-4c75-977c-99aed417a70c')\"\n",
       "            title=\"Suggest charts\"\n",
       "            style=\"display:none;\">\n",
       "\n",
       "<svg xmlns=\"http://www.w3.org/2000/svg\" height=\"24px\"viewBox=\"0 0 24 24\"\n",
       "     width=\"24px\">\n",
       "    <g>\n",
       "        <path d=\"M19 3H5c-1.1 0-2 .9-2 2v14c0 1.1.9 2 2 2h14c1.1 0 2-.9 2-2V5c0-1.1-.9-2-2-2zM9 17H7v-7h2v7zm4 0h-2V7h2v10zm4 0h-2v-4h2v4z\"/>\n",
       "    </g>\n",
       "</svg>\n",
       "  </button>\n",
       "\n",
       "<style>\n",
       "  .colab-df-quickchart {\n",
       "      --bg-color: #E8F0FE;\n",
       "      --fill-color: #1967D2;\n",
       "      --hover-bg-color: #E2EBFA;\n",
       "      --hover-fill-color: #174EA6;\n",
       "      --disabled-fill-color: #AAA;\n",
       "      --disabled-bg-color: #DDD;\n",
       "  }\n",
       "\n",
       "  [theme=dark] .colab-df-quickchart {\n",
       "      --bg-color: #3B4455;\n",
       "      --fill-color: #D2E3FC;\n",
       "      --hover-bg-color: #434B5C;\n",
       "      --hover-fill-color: #FFFFFF;\n",
       "      --disabled-bg-color: #3B4455;\n",
       "      --disabled-fill-color: #666;\n",
       "  }\n",
       "\n",
       "  .colab-df-quickchart {\n",
       "    background-color: var(--bg-color);\n",
       "    border: none;\n",
       "    border-radius: 50%;\n",
       "    cursor: pointer;\n",
       "    display: none;\n",
       "    fill: var(--fill-color);\n",
       "    height: 32px;\n",
       "    padding: 0;\n",
       "    width: 32px;\n",
       "  }\n",
       "\n",
       "  .colab-df-quickchart:hover {\n",
       "    background-color: var(--hover-bg-color);\n",
       "    box-shadow: 0 1px 2px rgba(60, 64, 67, 0.3), 0 1px 3px 1px rgba(60, 64, 67, 0.15);\n",
       "    fill: var(--button-hover-fill-color);\n",
       "  }\n",
       "\n",
       "  .colab-df-quickchart-complete:disabled,\n",
       "  .colab-df-quickchart-complete:disabled:hover {\n",
       "    background-color: var(--disabled-bg-color);\n",
       "    fill: var(--disabled-fill-color);\n",
       "    box-shadow: none;\n",
       "  }\n",
       "\n",
       "  .colab-df-spinner {\n",
       "    border: 2px solid var(--fill-color);\n",
       "    border-color: transparent;\n",
       "    border-bottom-color: var(--fill-color);\n",
       "    animation:\n",
       "      spin 1s steps(1) infinite;\n",
       "  }\n",
       "\n",
       "  @keyframes spin {\n",
       "    0% {\n",
       "      border-color: transparent;\n",
       "      border-bottom-color: var(--fill-color);\n",
       "      border-left-color: var(--fill-color);\n",
       "    }\n",
       "    20% {\n",
       "      border-color: transparent;\n",
       "      border-left-color: var(--fill-color);\n",
       "      border-top-color: var(--fill-color);\n",
       "    }\n",
       "    30% {\n",
       "      border-color: transparent;\n",
       "      border-left-color: var(--fill-color);\n",
       "      border-top-color: var(--fill-color);\n",
       "      border-right-color: var(--fill-color);\n",
       "    }\n",
       "    40% {\n",
       "      border-color: transparent;\n",
       "      border-right-color: var(--fill-color);\n",
       "      border-top-color: var(--fill-color);\n",
       "    }\n",
       "    60% {\n",
       "      border-color: transparent;\n",
       "      border-right-color: var(--fill-color);\n",
       "    }\n",
       "    80% {\n",
       "      border-color: transparent;\n",
       "      border-right-color: var(--fill-color);\n",
       "      border-bottom-color: var(--fill-color);\n",
       "    }\n",
       "    90% {\n",
       "      border-color: transparent;\n",
       "      border-bottom-color: var(--fill-color);\n",
       "    }\n",
       "  }\n",
       "</style>\n",
       "\n",
       "  <script>\n",
       "    async function quickchart(key) {\n",
       "      const quickchartButtonEl =\n",
       "        document.querySelector('#' + key + ' button');\n",
       "      quickchartButtonEl.disabled = true;  // To prevent multiple clicks.\n",
       "      quickchartButtonEl.classList.add('colab-df-spinner');\n",
       "      try {\n",
       "        const charts = await google.colab.kernel.invokeFunction(\n",
       "            'suggestCharts', [key], {});\n",
       "      } catch (error) {\n",
       "        console.error('Error during call to suggestCharts:', error);\n",
       "      }\n",
       "      quickchartButtonEl.classList.remove('colab-df-spinner');\n",
       "      quickchartButtonEl.classList.add('colab-df-quickchart-complete');\n",
       "    }\n",
       "    (() => {\n",
       "      let quickchartButtonEl =\n",
       "        document.querySelector('#df-377ebbd4-3d06-4c75-977c-99aed417a70c button');\n",
       "      quickchartButtonEl.style.display =\n",
       "        google.colab.kernel.accessAllowed ? 'block' : 'none';\n",
       "    })();\n",
       "  </script>\n",
       "</div>\n",
       "    </div>\n",
       "  </div>\n"
      ]
     },
     "metadata": {},
     "execution_count": 86
    }
   ],
   "source": [
    "df_usa.head()"
   ]
  },
  {
   "cell_type": "code",
   "execution_count": 87,
   "id": "2d4fc2a7-3ae1-4427-8b06-5d960d279c93",
   "metadata": {
    "colab": {
     "base_uri": "https://localhost:8080/"
    },
    "id": "2d4fc2a7-3ae1-4427-8b06-5d960d279c93",
    "outputId": "8576d556-871b-4eef-a185-44f5caa37ded",
    "pycharm": {
     "name": "#%%\n"
    }
   },
   "outputs": [
    {
     "output_type": "stream",
     "name": "stdout",
     "text": [
      "<class 'pandas.core.frame.DataFrame'>\n",
      "Int64Index: 52 entries, 13156 to 13207\n",
      "Data columns (total 13 columns):\n",
      " #   Column                                                               Non-Null Count  Dtype  \n",
      "---  ------                                                               --------------  -----  \n",
      " 0   country                                                              52 non-null     object \n",
      " 1   year                                                                 52 non-null     int64  \n",
      " 2   Inflation, consumer prices (annual %)                                52 non-null     float64\n",
      " 3   Inflation, GDP deflator (annual %)                                   51 non-null     float64\n",
      " 4   Real interest rate (%)                                               51 non-null     float64\n",
      " 5   Deposit interest rate (%)                                            0 non-null      float64\n",
      " 6   Lending interest rate (%)                                            52 non-null     float64\n",
      " 7   Unemployment, total (% of total labor force) (national estimate)     52 non-null     float64\n",
      " 8   Unemployment, total (% of total labor force) (modeled ILO estimate)  31 non-null     float64\n",
      " 9   iso3c                                                                52 non-null     object \n",
      " 10  iso2c                                                                52 non-null     object \n",
      " 11  adminregion                                                          0 non-null      object \n",
      " 12  incomeLevel                                                          52 non-null     object \n",
      "dtypes: float64(7), int64(1), object(5)\n",
      "memory usage: 5.7+ KB\n"
     ]
    }
   ],
   "source": [
    "df_usa.info()"
   ]
  },
  {
   "cell_type": "code",
   "execution_count": 88,
   "id": "6b81956c-24df-4f8c-b83c-2344df96cff8",
   "metadata": {
    "id": "6b81956c-24df-4f8c-b83c-2344df96cff8",
    "pycharm": {
     "name": "#%%\n"
    }
   },
   "outputs": [],
   "source": [
    "df_usa = df_usa.reset_index(drop = True)"
   ]
  },
  {
   "cell_type": "code",
   "execution_count": 89,
   "id": "5cdae942-654a-40ac-9a4e-2305dbff3985",
   "metadata": {
    "id": "5cdae942-654a-40ac-9a4e-2305dbff3985",
    "pycharm": {
     "name": "#%%\n"
    }
   },
   "outputs": [],
   "source": [
    "#Delete columns that are not needed\n",
    "columns_to_delete = ['Deposit interest rate (%)','iso3c', 'iso2c', 'country', 'adminregion', 'incomeLevel', 'Lending interest rate (%)', 'Unemployment, total (% of total labor force) (national estimate)', 'Unemployment, total (% of total labor force) (modeled ILO estimate)']\n",
    "df_usa.drop(columns=columns_to_delete, inplace=True)"
   ]
  },
  {
   "cell_type": "code",
   "execution_count": 90,
   "id": "0517b9a4-1d4d-429a-9e1f-21862690b589",
   "metadata": {
    "colab": {
     "base_uri": "https://localhost:8080/",
     "height": 206
    },
    "id": "0517b9a4-1d4d-429a-9e1f-21862690b589",
    "outputId": "450a619d-540c-477d-a251-42d51c8402f2",
    "pycharm": {
     "name": "#%%\n"
    }
   },
   "outputs": [
    {
     "output_type": "execute_result",
     "data": {
      "text/plain": [
       "   year  Inflation, consumer prices (annual %)  \\\n",
       "0  1970                               5.838255   \n",
       "1  1971                               4.292767   \n",
       "2  1972                               3.272278   \n",
       "3  1973                               6.177760   \n",
       "4  1974                              11.054805   \n",
       "\n",
       "   Inflation, GDP deflator (annual %)  Real interest rate (%)  \n",
       "0                            5.602170                2.185400  \n",
       "1                            5.069167                0.622605  \n",
       "2                            4.322751                0.887229  \n",
       "3                            5.479881                2.409735  \n",
       "4                            8.998695                1.651064  "
      ],
      "text/html": [
       "\n",
       "  <div id=\"df-6c4c8e77-c95d-4557-a72a-6480d68d5e6f\" class=\"colab-df-container\">\n",
       "    <div>\n",
       "<style scoped>\n",
       "    .dataframe tbody tr th:only-of-type {\n",
       "        vertical-align: middle;\n",
       "    }\n",
       "\n",
       "    .dataframe tbody tr th {\n",
       "        vertical-align: top;\n",
       "    }\n",
       "\n",
       "    .dataframe thead th {\n",
       "        text-align: right;\n",
       "    }\n",
       "</style>\n",
       "<table border=\"1\" class=\"dataframe\">\n",
       "  <thead>\n",
       "    <tr style=\"text-align: right;\">\n",
       "      <th></th>\n",
       "      <th>year</th>\n",
       "      <th>Inflation, consumer prices (annual %)</th>\n",
       "      <th>Inflation, GDP deflator (annual %)</th>\n",
       "      <th>Real interest rate (%)</th>\n",
       "    </tr>\n",
       "  </thead>\n",
       "  <tbody>\n",
       "    <tr>\n",
       "      <th>0</th>\n",
       "      <td>1970</td>\n",
       "      <td>5.838255</td>\n",
       "      <td>5.602170</td>\n",
       "      <td>2.185400</td>\n",
       "    </tr>\n",
       "    <tr>\n",
       "      <th>1</th>\n",
       "      <td>1971</td>\n",
       "      <td>4.292767</td>\n",
       "      <td>5.069167</td>\n",
       "      <td>0.622605</td>\n",
       "    </tr>\n",
       "    <tr>\n",
       "      <th>2</th>\n",
       "      <td>1972</td>\n",
       "      <td>3.272278</td>\n",
       "      <td>4.322751</td>\n",
       "      <td>0.887229</td>\n",
       "    </tr>\n",
       "    <tr>\n",
       "      <th>3</th>\n",
       "      <td>1973</td>\n",
       "      <td>6.177760</td>\n",
       "      <td>5.479881</td>\n",
       "      <td>2.409735</td>\n",
       "    </tr>\n",
       "    <tr>\n",
       "      <th>4</th>\n",
       "      <td>1974</td>\n",
       "      <td>11.054805</td>\n",
       "      <td>8.998695</td>\n",
       "      <td>1.651064</td>\n",
       "    </tr>\n",
       "  </tbody>\n",
       "</table>\n",
       "</div>\n",
       "    <div class=\"colab-df-buttons\">\n",
       "\n",
       "  <div class=\"colab-df-container\">\n",
       "    <button class=\"colab-df-convert\" onclick=\"convertToInteractive('df-6c4c8e77-c95d-4557-a72a-6480d68d5e6f')\"\n",
       "            title=\"Convert this dataframe to an interactive table.\"\n",
       "            style=\"display:none;\">\n",
       "\n",
       "  <svg xmlns=\"http://www.w3.org/2000/svg\" height=\"24px\" viewBox=\"0 -960 960 960\">\n",
       "    <path d=\"M120-120v-720h720v720H120Zm60-500h600v-160H180v160Zm220 220h160v-160H400v160Zm0 220h160v-160H400v160ZM180-400h160v-160H180v160Zm440 0h160v-160H620v160ZM180-180h160v-160H180v160Zm440 0h160v-160H620v160Z\"/>\n",
       "  </svg>\n",
       "    </button>\n",
       "\n",
       "  <style>\n",
       "    .colab-df-container {\n",
       "      display:flex;\n",
       "      gap: 12px;\n",
       "    }\n",
       "\n",
       "    .colab-df-convert {\n",
       "      background-color: #E8F0FE;\n",
       "      border: none;\n",
       "      border-radius: 50%;\n",
       "      cursor: pointer;\n",
       "      display: none;\n",
       "      fill: #1967D2;\n",
       "      height: 32px;\n",
       "      padding: 0 0 0 0;\n",
       "      width: 32px;\n",
       "    }\n",
       "\n",
       "    .colab-df-convert:hover {\n",
       "      background-color: #E2EBFA;\n",
       "      box-shadow: 0px 1px 2px rgba(60, 64, 67, 0.3), 0px 1px 3px 1px rgba(60, 64, 67, 0.15);\n",
       "      fill: #174EA6;\n",
       "    }\n",
       "\n",
       "    .colab-df-buttons div {\n",
       "      margin-bottom: 4px;\n",
       "    }\n",
       "\n",
       "    [theme=dark] .colab-df-convert {\n",
       "      background-color: #3B4455;\n",
       "      fill: #D2E3FC;\n",
       "    }\n",
       "\n",
       "    [theme=dark] .colab-df-convert:hover {\n",
       "      background-color: #434B5C;\n",
       "      box-shadow: 0px 1px 3px 1px rgba(0, 0, 0, 0.15);\n",
       "      filter: drop-shadow(0px 1px 2px rgba(0, 0, 0, 0.3));\n",
       "      fill: #FFFFFF;\n",
       "    }\n",
       "  </style>\n",
       "\n",
       "    <script>\n",
       "      const buttonEl =\n",
       "        document.querySelector('#df-6c4c8e77-c95d-4557-a72a-6480d68d5e6f button.colab-df-convert');\n",
       "      buttonEl.style.display =\n",
       "        google.colab.kernel.accessAllowed ? 'block' : 'none';\n",
       "\n",
       "      async function convertToInteractive(key) {\n",
       "        const element = document.querySelector('#df-6c4c8e77-c95d-4557-a72a-6480d68d5e6f');\n",
       "        const dataTable =\n",
       "          await google.colab.kernel.invokeFunction('convertToInteractive',\n",
       "                                                    [key], {});\n",
       "        if (!dataTable) return;\n",
       "\n",
       "        const docLinkHtml = 'Like what you see? Visit the ' +\n",
       "          '<a target=\"_blank\" href=https://colab.research.google.com/notebooks/data_table.ipynb>data table notebook</a>'\n",
       "          + ' to learn more about interactive tables.';\n",
       "        element.innerHTML = '';\n",
       "        dataTable['output_type'] = 'display_data';\n",
       "        await google.colab.output.renderOutput(dataTable, element);\n",
       "        const docLink = document.createElement('div');\n",
       "        docLink.innerHTML = docLinkHtml;\n",
       "        element.appendChild(docLink);\n",
       "      }\n",
       "    </script>\n",
       "  </div>\n",
       "\n",
       "\n",
       "<div id=\"df-fdbeb4d4-36d8-4ced-bc69-59bb8072bfc4\">\n",
       "  <button class=\"colab-df-quickchart\" onclick=\"quickchart('df-fdbeb4d4-36d8-4ced-bc69-59bb8072bfc4')\"\n",
       "            title=\"Suggest charts\"\n",
       "            style=\"display:none;\">\n",
       "\n",
       "<svg xmlns=\"http://www.w3.org/2000/svg\" height=\"24px\"viewBox=\"0 0 24 24\"\n",
       "     width=\"24px\">\n",
       "    <g>\n",
       "        <path d=\"M19 3H5c-1.1 0-2 .9-2 2v14c0 1.1.9 2 2 2h14c1.1 0 2-.9 2-2V5c0-1.1-.9-2-2-2zM9 17H7v-7h2v7zm4 0h-2V7h2v10zm4 0h-2v-4h2v4z\"/>\n",
       "    </g>\n",
       "</svg>\n",
       "  </button>\n",
       "\n",
       "<style>\n",
       "  .colab-df-quickchart {\n",
       "      --bg-color: #E8F0FE;\n",
       "      --fill-color: #1967D2;\n",
       "      --hover-bg-color: #E2EBFA;\n",
       "      --hover-fill-color: #174EA6;\n",
       "      --disabled-fill-color: #AAA;\n",
       "      --disabled-bg-color: #DDD;\n",
       "  }\n",
       "\n",
       "  [theme=dark] .colab-df-quickchart {\n",
       "      --bg-color: #3B4455;\n",
       "      --fill-color: #D2E3FC;\n",
       "      --hover-bg-color: #434B5C;\n",
       "      --hover-fill-color: #FFFFFF;\n",
       "      --disabled-bg-color: #3B4455;\n",
       "      --disabled-fill-color: #666;\n",
       "  }\n",
       "\n",
       "  .colab-df-quickchart {\n",
       "    background-color: var(--bg-color);\n",
       "    border: none;\n",
       "    border-radius: 50%;\n",
       "    cursor: pointer;\n",
       "    display: none;\n",
       "    fill: var(--fill-color);\n",
       "    height: 32px;\n",
       "    padding: 0;\n",
       "    width: 32px;\n",
       "  }\n",
       "\n",
       "  .colab-df-quickchart:hover {\n",
       "    background-color: var(--hover-bg-color);\n",
       "    box-shadow: 0 1px 2px rgba(60, 64, 67, 0.3), 0 1px 3px 1px rgba(60, 64, 67, 0.15);\n",
       "    fill: var(--button-hover-fill-color);\n",
       "  }\n",
       "\n",
       "  .colab-df-quickchart-complete:disabled,\n",
       "  .colab-df-quickchart-complete:disabled:hover {\n",
       "    background-color: var(--disabled-bg-color);\n",
       "    fill: var(--disabled-fill-color);\n",
       "    box-shadow: none;\n",
       "  }\n",
       "\n",
       "  .colab-df-spinner {\n",
       "    border: 2px solid var(--fill-color);\n",
       "    border-color: transparent;\n",
       "    border-bottom-color: var(--fill-color);\n",
       "    animation:\n",
       "      spin 1s steps(1) infinite;\n",
       "  }\n",
       "\n",
       "  @keyframes spin {\n",
       "    0% {\n",
       "      border-color: transparent;\n",
       "      border-bottom-color: var(--fill-color);\n",
       "      border-left-color: var(--fill-color);\n",
       "    }\n",
       "    20% {\n",
       "      border-color: transparent;\n",
       "      border-left-color: var(--fill-color);\n",
       "      border-top-color: var(--fill-color);\n",
       "    }\n",
       "    30% {\n",
       "      border-color: transparent;\n",
       "      border-left-color: var(--fill-color);\n",
       "      border-top-color: var(--fill-color);\n",
       "      border-right-color: var(--fill-color);\n",
       "    }\n",
       "    40% {\n",
       "      border-color: transparent;\n",
       "      border-right-color: var(--fill-color);\n",
       "      border-top-color: var(--fill-color);\n",
       "    }\n",
       "    60% {\n",
       "      border-color: transparent;\n",
       "      border-right-color: var(--fill-color);\n",
       "    }\n",
       "    80% {\n",
       "      border-color: transparent;\n",
       "      border-right-color: var(--fill-color);\n",
       "      border-bottom-color: var(--fill-color);\n",
       "    }\n",
       "    90% {\n",
       "      border-color: transparent;\n",
       "      border-bottom-color: var(--fill-color);\n",
       "    }\n",
       "  }\n",
       "</style>\n",
       "\n",
       "  <script>\n",
       "    async function quickchart(key) {\n",
       "      const quickchartButtonEl =\n",
       "        document.querySelector('#' + key + ' button');\n",
       "      quickchartButtonEl.disabled = true;  // To prevent multiple clicks.\n",
       "      quickchartButtonEl.classList.add('colab-df-spinner');\n",
       "      try {\n",
       "        const charts = await google.colab.kernel.invokeFunction(\n",
       "            'suggestCharts', [key], {});\n",
       "      } catch (error) {\n",
       "        console.error('Error during call to suggestCharts:', error);\n",
       "      }\n",
       "      quickchartButtonEl.classList.remove('colab-df-spinner');\n",
       "      quickchartButtonEl.classList.add('colab-df-quickchart-complete');\n",
       "    }\n",
       "    (() => {\n",
       "      let quickchartButtonEl =\n",
       "        document.querySelector('#df-fdbeb4d4-36d8-4ced-bc69-59bb8072bfc4 button');\n",
       "      quickchartButtonEl.style.display =\n",
       "        google.colab.kernel.accessAllowed ? 'block' : 'none';\n",
       "    })();\n",
       "  </script>\n",
       "</div>\n",
       "    </div>\n",
       "  </div>\n"
      ]
     },
     "metadata": {},
     "execution_count": 90
    }
   ],
   "source": [
    "df_usa.head()"
   ]
  },
  {
   "cell_type": "code",
   "execution_count": 91,
   "id": "94c02853-6157-4ccd-b06d-5d8d80fc45f1",
   "metadata": {
    "id": "94c02853-6157-4ccd-b06d-5d8d80fc45f1",
    "pycharm": {
     "name": "#%%\n"
    }
   },
   "outputs": [],
   "source": [
    "df_usa = df_usa.drop(index = 51, axis = 0)"
   ]
  },
  {
   "cell_type": "code",
   "source": [
    "#Rename to simply Inflation\n",
    "df_usa = df_usa.rename(columns={\"Inflation, consumer prices (annual %)\": \"Inflation\"})"
   ],
   "metadata": {
    "id": "8-N1X03Cdtr1",
    "pycharm": {
     "name": "#%%\n"
    }
   },
   "id": "8-N1X03Cdtr1",
   "execution_count": 92,
   "outputs": []
  },
  {
   "cell_type": "code",
   "execution_count": 93,
   "id": "b144a79b-cb68-4d37-8467-db1727b20bd9",
   "metadata": {
    "colab": {
     "base_uri": "https://localhost:8080/"
    },
    "id": "b144a79b-cb68-4d37-8467-db1727b20bd9",
    "outputId": "6451bde1-1cca-456d-afe9-352d0c75d3b8",
    "pycharm": {
     "name": "#%%\n"
    }
   },
   "outputs": [
    {
     "output_type": "stream",
     "name": "stdout",
     "text": [
      "year - Series is not stationary\n",
      "Inflation - Series is not stationary\n",
      "Inflation, GDP deflator (annual %) - Series is not stationary\n",
      "Real interest rate (%) - Series is not stationary\n"
     ]
    }
   ],
   "source": [
    "for i in range(len(df_usa.columns)):\n",
    "  result = adfuller(df_usa[df_usa.columns[i]])\n",
    "\n",
    "  if result[1] > 0.05:\n",
    "    print('{} - Series is not stationary'.format(df_usa.columns[i]))\n",
    "  else:\n",
    "    print('{} - Series is stationary'.format(df_usa.columns[i]))"
   ]
  },
  {
   "cell_type": "code",
   "execution_count": 94,
   "id": "0a986921-e1c0-4585-883a-f7a46a65d9c1",
   "metadata": {
    "id": "0a986921-e1c0-4585-883a-f7a46a65d9c1",
    "pycharm": {
     "name": "#%%\n"
    }
   },
   "outputs": [],
   "source": [
    "# Assuming df is your DataFrame with columns 'Year', 'InterestRate', and 'Inflation'\n",
    "df_usa['Inflation_diff'] = df_usa['Inflation'].diff()"
   ]
  },
  {
   "cell_type": "code",
   "source": [
    "# Assuming df is your DataFrame with columns 'Year', 'InterestRate', and 'Inflation_diff'\n",
    "seasonal_lag = 12  # Assuming a monthly seasonality, adjust as needed\n",
    "df_usa['Inflation_seasonal_diff'] = df_usa['Inflation_diff'].diff(seasonal_lag)"
   ],
   "metadata": {
    "id": "zmmcYSIseyOE",
    "pycharm": {
     "name": "#%%\n"
    }
   },
   "id": "zmmcYSIseyOE",
   "execution_count": 95,
   "outputs": []
  },
  {
   "cell_type": "code",
   "source": [
    "# Assuming df is your DataFrame with columns 'Year', 'InterestRate', and 'Inflation_seasonal_diff'\n",
    "window_size = 5\n",
    "df_usa['Inflation_detrended'] = df_usa['Inflation_seasonal_diff'] - df_usa['Inflation_seasonal_diff'].rolling(window=window_size).mean()"
   ],
   "metadata": {
    "id": "GPFCx3bRe3pw",
    "pycharm": {
     "name": "#%%\n"
    }
   },
   "id": "GPFCx3bRe3pw",
   "execution_count": 96,
   "outputs": []
  },
  {
   "cell_type": "code",
   "source": [
    "df_usa = df_usa.dropna()  # Drop rows with missing values"
   ],
   "metadata": {
    "id": "-sJ2R4KtfHdr",
    "pycharm": {
     "name": "#%%\n"
    }
   },
   "id": "-sJ2R4KtfHdr",
   "execution_count": 97,
   "outputs": []
  },
  {
   "cell_type": "code",
   "source": [
    "from sklearn.linear_model import LinearRegression\n",
    "from sklearn.model_selection import train_test_split\n",
    "from sklearn.metrics import mean_squared_error\n",
    "\n",
    "# Assuming df_usa is your DataFrame with columns 'Real interest rate (%)', 'year', and 'Inflation_detrended'\n",
    "X = df_usa[['Real interest rate (%)', 'year']]\n",
    "y = df_usa['Inflation']\n",
    "\n",
    "# Ensure that 'Inflation' is correctly named in your DataFrame\n",
    "# If there is still an issue, print the columns to verify the names\n",
    "# print(df_usa.columns)\n",
    "\n",
    "X_train, X_test, y_train, y_test = train_test_split(X, y, test_size=0.2, random_state=42)\n",
    "\n",
    "model = LinearRegression()\n",
    "model.fit(X_train, y_train)\n",
    "\n",
    "# Make predictions\n",
    "predictions = model.predict(X_test)\n",
    "\n",
    "# Evaluate the model\n",
    "mse = mean_squared_error(y_test, predictions)\n",
    "print(f'Mean Squared Error: {mse}')"
   ],
   "metadata": {
    "colab": {
     "base_uri": "https://localhost:8080/"
    },
    "id": "HTEFjSgDfMKh",
    "outputId": "30c3d761-03f8-4773-ec5a-6cb6bee20597",
    "pycharm": {
     "name": "#%%\n"
    }
   },
   "id": "HTEFjSgDfMKh",
   "execution_count": 98,
   "outputs": [
    {
     "output_type": "stream",
     "name": "stdout",
     "text": [
      "Mean Squared Error: 1.0021083655774083\n"
     ]
    }
   ]
  },
  {
   "cell_type": "code",
   "source": [
    "adf_test_result = adfuller(df_usa['Inflation'])\n",
    "\n",
    "print('ADF Statistic:', adf_test_result[0])\n",
    "print('p-value:', adf_test_result[1])\n",
    "print('Critical Values:', adf_test_result[4])\n",
    "\n",
    "# Check if the series is stationary based on the p-value\n",
    "if adf_test_result[1] <= 0.05:\n",
    "    print('The series is likely stationary.')\n",
    "else:\n",
    "    print('The series is likely non-stationary.')"
   ],
   "metadata": {
    "colab": {
     "base_uri": "https://localhost:8080/"
    },
    "id": "sbPKahcxiKLb",
    "outputId": "dcb77487-7a8e-45ed-cefe-81e5a6690dfa",
    "pycharm": {
     "name": "#%%\n"
    }
   },
   "id": "sbPKahcxiKLb",
   "execution_count": 99,
   "outputs": [
    {
     "output_type": "stream",
     "name": "stdout",
     "text": [
      "ADF Statistic: -2.932548790547654\n",
      "p-value: 0.04169183208759931\n",
      "Critical Values: {'1%': -3.6461350877925254, '5%': -2.954126991123355, '10%': -2.6159676124885216}\n",
      "The series is likely stationary.\n"
     ]
    }
   ]
  },
  {
   "cell_type": "code",
   "source": [
    "df_usa.head()"
   ],
   "metadata": {
    "colab": {
     "base_uri": "https://localhost:8080/",
     "height": 206
    },
    "id": "oUErmvjLiS7C",
    "outputId": "eb30c18e-9e70-4660-8163-f613a59aa6b2",
    "pycharm": {
     "name": "#%%\n"
    }
   },
   "id": "oUErmvjLiS7C",
   "execution_count": 100,
   "outputs": [
    {
     "output_type": "execute_result",
     "data": {
      "text/plain": [
       "    year  Inflation  Inflation, GDP deflator (annual %)  \\\n",
       "17  1987   3.664563                            2.472810   \n",
       "18  1988   4.077741                            3.527421   \n",
       "19  1989   4.827003                            3.920348   \n",
       "20  1990   5.397956                            3.743330   \n",
       "21  1991   4.234964                            3.381762   \n",
       "\n",
       "    Real interest rate (%)  Inflation_diff  Inflation_seasonal_diff  \\\n",
       "17                5.592238        1.766515                 3.678173   \n",
       "18                5.590382        0.413178                 3.811512   \n",
       "19                6.690687        0.749262                -0.007609   \n",
       "20                6.039749        0.570953                -0.558326   \n",
       "21                4.915346       -1.162992                -4.786500   \n",
       "\n",
       "    Inflation_detrended  \n",
       "17             4.832524  \n",
       "18             3.928860  \n",
       "19             0.532978  \n",
       "20            -0.638148  \n",
       "21            -5.213950  "
      ],
      "text/html": [
       "\n",
       "  <div id=\"df-a88fde15-194d-4a5a-abe6-1d874bebe8fe\" class=\"colab-df-container\">\n",
       "    <div>\n",
       "<style scoped>\n",
       "    .dataframe tbody tr th:only-of-type {\n",
       "        vertical-align: middle;\n",
       "    }\n",
       "\n",
       "    .dataframe tbody tr th {\n",
       "        vertical-align: top;\n",
       "    }\n",
       "\n",
       "    .dataframe thead th {\n",
       "        text-align: right;\n",
       "    }\n",
       "</style>\n",
       "<table border=\"1\" class=\"dataframe\">\n",
       "  <thead>\n",
       "    <tr style=\"text-align: right;\">\n",
       "      <th></th>\n",
       "      <th>year</th>\n",
       "      <th>Inflation</th>\n",
       "      <th>Inflation, GDP deflator (annual %)</th>\n",
       "      <th>Real interest rate (%)</th>\n",
       "      <th>Inflation_diff</th>\n",
       "      <th>Inflation_seasonal_diff</th>\n",
       "      <th>Inflation_detrended</th>\n",
       "    </tr>\n",
       "  </thead>\n",
       "  <tbody>\n",
       "    <tr>\n",
       "      <th>17</th>\n",
       "      <td>1987</td>\n",
       "      <td>3.664563</td>\n",
       "      <td>2.472810</td>\n",
       "      <td>5.592238</td>\n",
       "      <td>1.766515</td>\n",
       "      <td>3.678173</td>\n",
       "      <td>4.832524</td>\n",
       "    </tr>\n",
       "    <tr>\n",
       "      <th>18</th>\n",
       "      <td>1988</td>\n",
       "      <td>4.077741</td>\n",
       "      <td>3.527421</td>\n",
       "      <td>5.590382</td>\n",
       "      <td>0.413178</td>\n",
       "      <td>3.811512</td>\n",
       "      <td>3.928860</td>\n",
       "    </tr>\n",
       "    <tr>\n",
       "      <th>19</th>\n",
       "      <td>1989</td>\n",
       "      <td>4.827003</td>\n",
       "      <td>3.920348</td>\n",
       "      <td>6.690687</td>\n",
       "      <td>0.749262</td>\n",
       "      <td>-0.007609</td>\n",
       "      <td>0.532978</td>\n",
       "    </tr>\n",
       "    <tr>\n",
       "      <th>20</th>\n",
       "      <td>1990</td>\n",
       "      <td>5.397956</td>\n",
       "      <td>3.743330</td>\n",
       "      <td>6.039749</td>\n",
       "      <td>0.570953</td>\n",
       "      <td>-0.558326</td>\n",
       "      <td>-0.638148</td>\n",
       "    </tr>\n",
       "    <tr>\n",
       "      <th>21</th>\n",
       "      <td>1991</td>\n",
       "      <td>4.234964</td>\n",
       "      <td>3.381762</td>\n",
       "      <td>4.915346</td>\n",
       "      <td>-1.162992</td>\n",
       "      <td>-4.786500</td>\n",
       "      <td>-5.213950</td>\n",
       "    </tr>\n",
       "  </tbody>\n",
       "</table>\n",
       "</div>\n",
       "    <div class=\"colab-df-buttons\">\n",
       "\n",
       "  <div class=\"colab-df-container\">\n",
       "    <button class=\"colab-df-convert\" onclick=\"convertToInteractive('df-a88fde15-194d-4a5a-abe6-1d874bebe8fe')\"\n",
       "            title=\"Convert this dataframe to an interactive table.\"\n",
       "            style=\"display:none;\">\n",
       "\n",
       "  <svg xmlns=\"http://www.w3.org/2000/svg\" height=\"24px\" viewBox=\"0 -960 960 960\">\n",
       "    <path d=\"M120-120v-720h720v720H120Zm60-500h600v-160H180v160Zm220 220h160v-160H400v160Zm0 220h160v-160H400v160ZM180-400h160v-160H180v160Zm440 0h160v-160H620v160ZM180-180h160v-160H180v160Zm440 0h160v-160H620v160Z\"/>\n",
       "  </svg>\n",
       "    </button>\n",
       "\n",
       "  <style>\n",
       "    .colab-df-container {\n",
       "      display:flex;\n",
       "      gap: 12px;\n",
       "    }\n",
       "\n",
       "    .colab-df-convert {\n",
       "      background-color: #E8F0FE;\n",
       "      border: none;\n",
       "      border-radius: 50%;\n",
       "      cursor: pointer;\n",
       "      display: none;\n",
       "      fill: #1967D2;\n",
       "      height: 32px;\n",
       "      padding: 0 0 0 0;\n",
       "      width: 32px;\n",
       "    }\n",
       "\n",
       "    .colab-df-convert:hover {\n",
       "      background-color: #E2EBFA;\n",
       "      box-shadow: 0px 1px 2px rgba(60, 64, 67, 0.3), 0px 1px 3px 1px rgba(60, 64, 67, 0.15);\n",
       "      fill: #174EA6;\n",
       "    }\n",
       "\n",
       "    .colab-df-buttons div {\n",
       "      margin-bottom: 4px;\n",
       "    }\n",
       "\n",
       "    [theme=dark] .colab-df-convert {\n",
       "      background-color: #3B4455;\n",
       "      fill: #D2E3FC;\n",
       "    }\n",
       "\n",
       "    [theme=dark] .colab-df-convert:hover {\n",
       "      background-color: #434B5C;\n",
       "      box-shadow: 0px 1px 3px 1px rgba(0, 0, 0, 0.15);\n",
       "      filter: drop-shadow(0px 1px 2px rgba(0, 0, 0, 0.3));\n",
       "      fill: #FFFFFF;\n",
       "    }\n",
       "  </style>\n",
       "\n",
       "    <script>\n",
       "      const buttonEl =\n",
       "        document.querySelector('#df-a88fde15-194d-4a5a-abe6-1d874bebe8fe button.colab-df-convert');\n",
       "      buttonEl.style.display =\n",
       "        google.colab.kernel.accessAllowed ? 'block' : 'none';\n",
       "\n",
       "      async function convertToInteractive(key) {\n",
       "        const element = document.querySelector('#df-a88fde15-194d-4a5a-abe6-1d874bebe8fe');\n",
       "        const dataTable =\n",
       "          await google.colab.kernel.invokeFunction('convertToInteractive',\n",
       "                                                    [key], {});\n",
       "        if (!dataTable) return;\n",
       "\n",
       "        const docLinkHtml = 'Like what you see? Visit the ' +\n",
       "          '<a target=\"_blank\" href=https://colab.research.google.com/notebooks/data_table.ipynb>data table notebook</a>'\n",
       "          + ' to learn more about interactive tables.';\n",
       "        element.innerHTML = '';\n",
       "        dataTable['output_type'] = 'display_data';\n",
       "        await google.colab.output.renderOutput(dataTable, element);\n",
       "        const docLink = document.createElement('div');\n",
       "        docLink.innerHTML = docLinkHtml;\n",
       "        element.appendChild(docLink);\n",
       "      }\n",
       "    </script>\n",
       "  </div>\n",
       "\n",
       "\n",
       "<div id=\"df-5e54a1ee-b75f-46c4-8b73-ddba850cde04\">\n",
       "  <button class=\"colab-df-quickchart\" onclick=\"quickchart('df-5e54a1ee-b75f-46c4-8b73-ddba850cde04')\"\n",
       "            title=\"Suggest charts\"\n",
       "            style=\"display:none;\">\n",
       "\n",
       "<svg xmlns=\"http://www.w3.org/2000/svg\" height=\"24px\"viewBox=\"0 0 24 24\"\n",
       "     width=\"24px\">\n",
       "    <g>\n",
       "        <path d=\"M19 3H5c-1.1 0-2 .9-2 2v14c0 1.1.9 2 2 2h14c1.1 0 2-.9 2-2V5c0-1.1-.9-2-2-2zM9 17H7v-7h2v7zm4 0h-2V7h2v10zm4 0h-2v-4h2v4z\"/>\n",
       "    </g>\n",
       "</svg>\n",
       "  </button>\n",
       "\n",
       "<style>\n",
       "  .colab-df-quickchart {\n",
       "      --bg-color: #E8F0FE;\n",
       "      --fill-color: #1967D2;\n",
       "      --hover-bg-color: #E2EBFA;\n",
       "      --hover-fill-color: #174EA6;\n",
       "      --disabled-fill-color: #AAA;\n",
       "      --disabled-bg-color: #DDD;\n",
       "  }\n",
       "\n",
       "  [theme=dark] .colab-df-quickchart {\n",
       "      --bg-color: #3B4455;\n",
       "      --fill-color: #D2E3FC;\n",
       "      --hover-bg-color: #434B5C;\n",
       "      --hover-fill-color: #FFFFFF;\n",
       "      --disabled-bg-color: #3B4455;\n",
       "      --disabled-fill-color: #666;\n",
       "  }\n",
       "\n",
       "  .colab-df-quickchart {\n",
       "    background-color: var(--bg-color);\n",
       "    border: none;\n",
       "    border-radius: 50%;\n",
       "    cursor: pointer;\n",
       "    display: none;\n",
       "    fill: var(--fill-color);\n",
       "    height: 32px;\n",
       "    padding: 0;\n",
       "    width: 32px;\n",
       "  }\n",
       "\n",
       "  .colab-df-quickchart:hover {\n",
       "    background-color: var(--hover-bg-color);\n",
       "    box-shadow: 0 1px 2px rgba(60, 64, 67, 0.3), 0 1px 3px 1px rgba(60, 64, 67, 0.15);\n",
       "    fill: var(--button-hover-fill-color);\n",
       "  }\n",
       "\n",
       "  .colab-df-quickchart-complete:disabled,\n",
       "  .colab-df-quickchart-complete:disabled:hover {\n",
       "    background-color: var(--disabled-bg-color);\n",
       "    fill: var(--disabled-fill-color);\n",
       "    box-shadow: none;\n",
       "  }\n",
       "\n",
       "  .colab-df-spinner {\n",
       "    border: 2px solid var(--fill-color);\n",
       "    border-color: transparent;\n",
       "    border-bottom-color: var(--fill-color);\n",
       "    animation:\n",
       "      spin 1s steps(1) infinite;\n",
       "  }\n",
       "\n",
       "  @keyframes spin {\n",
       "    0% {\n",
       "      border-color: transparent;\n",
       "      border-bottom-color: var(--fill-color);\n",
       "      border-left-color: var(--fill-color);\n",
       "    }\n",
       "    20% {\n",
       "      border-color: transparent;\n",
       "      border-left-color: var(--fill-color);\n",
       "      border-top-color: var(--fill-color);\n",
       "    }\n",
       "    30% {\n",
       "      border-color: transparent;\n",
       "      border-left-color: var(--fill-color);\n",
       "      border-top-color: var(--fill-color);\n",
       "      border-right-color: var(--fill-color);\n",
       "    }\n",
       "    40% {\n",
       "      border-color: transparent;\n",
       "      border-right-color: var(--fill-color);\n",
       "      border-top-color: var(--fill-color);\n",
       "    }\n",
       "    60% {\n",
       "      border-color: transparent;\n",
       "      border-right-color: var(--fill-color);\n",
       "    }\n",
       "    80% {\n",
       "      border-color: transparent;\n",
       "      border-right-color: var(--fill-color);\n",
       "      border-bottom-color: var(--fill-color);\n",
       "    }\n",
       "    90% {\n",
       "      border-color: transparent;\n",
       "      border-bottom-color: var(--fill-color);\n",
       "    }\n",
       "  }\n",
       "</style>\n",
       "\n",
       "  <script>\n",
       "    async function quickchart(key) {\n",
       "      const quickchartButtonEl =\n",
       "        document.querySelector('#' + key + ' button');\n",
       "      quickchartButtonEl.disabled = true;  // To prevent multiple clicks.\n",
       "      quickchartButtonEl.classList.add('colab-df-spinner');\n",
       "      try {\n",
       "        const charts = await google.colab.kernel.invokeFunction(\n",
       "            'suggestCharts', [key], {});\n",
       "      } catch (error) {\n",
       "        console.error('Error during call to suggestCharts:', error);\n",
       "      }\n",
       "      quickchartButtonEl.classList.remove('colab-df-spinner');\n",
       "      quickchartButtonEl.classList.add('colab-df-quickchart-complete');\n",
       "    }\n",
       "    (() => {\n",
       "      let quickchartButtonEl =\n",
       "        document.querySelector('#df-5e54a1ee-b75f-46c4-8b73-ddba850cde04 button');\n",
       "      quickchartButtonEl.style.display =\n",
       "        google.colab.kernel.accessAllowed ? 'block' : 'none';\n",
       "    })();\n",
       "  </script>\n",
       "</div>\n",
       "    </div>\n",
       "  </div>\n"
      ]
     },
     "metadata": {},
     "execution_count": 100
    }
   ]
  },
  {
   "cell_type": "code",
   "source": [
    "# visualizes the relationship between two variables\n",
    "sns.scatterplot(data=df_usa, x=\"Real interest rate (%)\", y=\"Inflation\")"
   ],
   "metadata": {
    "colab": {
     "base_uri": "https://localhost:8080/",
     "height": 713
    },
    "id": "_hUezvGBMa2A",
    "outputId": "a3bf480c-7bf8-4c1b-9d76-4eb2edfb8023",
    "pycharm": {
     "name": "#%%\n"
    }
   },
   "id": "_hUezvGBMa2A",
   "execution_count": 101,
   "outputs": [
    {
     "output_type": "execute_result",
     "data": {
      "text/plain": [
       "<Axes: xlabel='Real interest rate (%)', ylabel='Inflation'>"
      ]
     },
     "metadata": {},
     "execution_count": 101
    },
    {
     "output_type": "display_data",
     "data": {
      "text/plain": [
       "<Figure size 1000x800 with 1 Axes>"
      ],
      "image/png": "[encoded data removed]"
     },
     "metadata": {}
    }
   ]
  },
  {
   "cell_type": "code",
   "execution_count": 102,
   "id": "0ef81af9-a71c-40ca-93eb-e558d0ca96d1",
   "metadata": {
    "colab": {
     "base_uri": "https://localhost:8080/",
     "height": 564
    },
    "id": "0ef81af9-a71c-40ca-93eb-e558d0ca96d1",
    "outputId": "5d0275b4-4fd5-4a5a-ca7b-fb3f09d5b99f",
    "pycharm": {
     "name": "#%%\n"
    }
   },
   "outputs": [
    {
     "output_type": "display_data",
     "data": {
      "text/plain": [
       "<Figure size 1000x600 with 1 Axes>"
      ],
      "image/png": "[encoded data removed]"
     },
     "metadata": {}
    }
   ],
   "source": [
    "year = df_usa['year']\n",
    "interest_rate = df_usa['Real interest rate (%)']\n",
    "inflation = df_usa['Inflation']\n",
    "\n",
    "# Create a line plot\n",
    "plt.figure(figsize=(10, 6))  # Set the figure size\n",
    "plt.plot(year, interest_rate, label='Real interest rate (%)', marker='o', linestyle='-')\n",
    "plt.plot(year, inflation, label='Inflation', marker='s', linestyle='--')\n",
    "\n",
    "# Add labels and a title\n",
    "plt.xlabel('year')\n",
    "plt.ylabel('Rate / %')\n",
    "plt.title('Real interest rate (%) and Inflation Over Time')\n",
    "\n",
    "# Add a legend\n",
    "plt.legend()\n",
    "\n",
    "# Show the plot\n",
    "plt.grid(True)  # Add grid lines\n",
    "plt.show()"
   ]
  },
  {
   "cell_type": "code",
   "execution_count": 103,
   "id": "53659158-17bc-42b0-9098-0678e39ee608",
   "metadata": {
    "colab": {
     "base_uri": "https://localhost:8080/",
     "height": 713
    },
    "id": "53659158-17bc-42b0-9098-0678e39ee608",
    "outputId": "511636da-8fed-4a72-8364-f274c10c5360",
    "pycharm": {
     "name": "#%%\n"
    }
   },
   "outputs": [
    {
     "output_type": "execute_result",
     "data": {
      "text/plain": [
       "<Axes: xlabel='Real interest rate (%)', ylabel='Inflation'>"
      ]
     },
     "metadata": {},
     "execution_count": 103
    },
    {
     "output_type": "display_data",
     "data": {
      "text/plain": [
       "<Figure size 1000x800 with 1 Axes>"
      ],
      "image/png": "[encoded data removed]"
     },
     "metadata": {}
    }
   ],
   "source": [
    "# visualizes the relationship between two variables\n",
    "sns.scatterplot(data=df_usa, x=\"Real interest rate (%)\", y=\"Inflation\")"
   ]
  },
  {
   "cell_type": "code",
   "source": [
    "\n",
    "# Assuming df_usa is your DataFrame with columns 'Real interest rate (%)', 'year', and 'Inflation'\n",
    "model = VAR(df_usa[['Real interest rate (%)', 'year', 'Inflation']])\n",
    "results = model.fit()\n",
    "steps_ahead = 10\n",
    "# Make predictions\n",
    "forecast = results.forecast(df_usa[['Real interest rate (%)', 'year', 'Inflation']].values, steps=steps_ahead)"
   ],
   "metadata": {
    "colab": {
     "base_uri": "https://localhost:8080/"
    },
    "id": "mUnonAUBklT0",
    "outputId": "bf8a6cfd-1c3e-462a-becc-2919b5af100d",
    "pycharm": {
     "name": "#%%\n"
    }
   },
   "id": "mUnonAUBklT0",
   "execution_count": 104,
   "outputs": [
    {
     "output_type": "stream",
     "name": "stderr",
     "text": [
      "/usr/local/lib/python3.10/dist-packages/statsmodels/tsa/base/tsa_model.py:473: ValueWarning: An unsupported index was provided and will be ignored when e.g. forecasting.\n",
      "  self._init_dates(dates, freq)\n"
     ]
    }
   ]
  },
  {
   "cell_type": "code",
   "source": [
    "from sklearn.linear_model import LinearRegression\n",
    "from sklearn.model_selection import train_test_split\n",
    "from sklearn.metrics import mean_squared_error\n",
    "\n",
    "# Assuming df_usa is your DataFrame with columns 'Real interest rate (%)', 'year', and 'Inflation_detrended'\n",
    "X = df_usa[['Real interest rate (%)', 'year']]\n",
    "y = df_usa['Inflation']\n",
    "\n",
    "# Ensure that 'Inflation' is correctly named in your DataFrame\n",
    "# If there is still an issue, print the columns to verify the names\n",
    "# print(df_usa.columns)\n",
    "\n",
    "X_train, X_test, y_train, y_test = train_test_split(X, y, test_size=0.2, random_state=42)\n",
    "\n",
    "model = LinearRegression()\n",
    "model.fit(X_train, y_train)"
   ],
   "metadata": {
    "colab": {
     "base_uri": "https://localhost:8080/",
     "height": 75
    },
    "id": "MAq_Nyt9QpAH",
    "outputId": "a7c8e338-7894-4c6d-99b0-b927e115a492",
    "pycharm": {
     "name": "#%%\n"
    }
   },
   "id": "MAq_Nyt9QpAH",
   "execution_count": 105,
   "outputs": [
    {
     "output_type": "execute_result",
     "data": {
      "text/plain": [
       "LinearRegression()"
      ],
      "text/html": [
       "<style>#sk-container-id-4 {color: black;background-color: white;}#sk-container-id-4 pre{padding: 0;}#sk-container-id-4 div.sk-toggleable {background-color: white;}#sk-container-id-4 label.sk-toggleable__label {cursor: pointer;display: block;width: 100%;margin-bottom: 0;padding: 0.3em;box-sizing: border-box;text-align: center;}#sk-container-id-4 label.sk-toggleable__label-arrow:before {content: \"▸\";float: left;margin-right: 0.25em;color: #696969;}#sk-container-id-4 label.sk-toggleable__label-arrow:hover:before {color: black;}#sk-container-id-4 div.sk-estimator:hover label.sk-toggleable__label-arrow:before {color: black;}#sk-container-id-4 div.sk-toggleable__content {max-height: 0;max-width: 0;overflow: hidden;text-align: left;background-color: #f0f8ff;}#sk-container-id-4 div.sk-toggleable__content pre {margin: 0.2em;color: black;border-radius: 0.25em;background-color: #f0f8ff;}#sk-container-id-4 input.sk-toggleable__control:checked~div.sk-toggleable__content {max-height: 200px;max-width: 100%;overflow: auto;}#sk-container-id-4 input.sk-toggleable__control:checked~label.sk-toggleable__label-arrow:before {content: \"▾\";}#sk-container-id-4 div.sk-estimator input.sk-toggleable__control:checked~label.sk-toggleable__label {background-color: #d4ebff;}#sk-container-id-4 div.sk-label input.sk-toggleable__control:checked~label.sk-toggleable__label {background-color: #d4ebff;}#sk-container-id-4 input.sk-hidden--visually {border: 0;clip: rect(1px 1px 1px 1px);clip: rect(1px, 1px, 1px, 1px);height: 1px;margin: -1px;overflow: hidden;padding: 0;position: absolute;width: 1px;}#sk-container-id-4 div.sk-estimator {font-family: monospace;background-color: #f0f8ff;border: 1px dotted black;border-radius: 0.25em;box-sizing: border-box;margin-bottom: 0.5em;}#sk-container-id-4 div.sk-estimator:hover {background-color: #d4ebff;}#sk-container-id-4 div.sk-parallel-item::after {content: \"\";width: 100%;border-bottom: 1px solid gray;flex-grow: 1;}#sk-container-id-4 div.sk-label:hover label.sk-toggleable__label {background-color: #d4ebff;}#sk-container-id-4 div.sk-serial::before {content: \"\";position: absolute;border-left: 1px solid gray;box-sizing: border-box;top: 0;bottom: 0;left: 50%;z-index: 0;}#sk-container-id-4 div.sk-serial {display: flex;flex-direction: column;align-items: center;background-color: white;padding-right: 0.2em;padding-left: 0.2em;position: relative;}#sk-container-id-4 div.sk-item {position: relative;z-index: 1;}#sk-container-id-4 div.sk-parallel {display: flex;align-items: stretch;justify-content: center;background-color: white;position: relative;}#sk-container-id-4 div.sk-item::before, #sk-container-id-4 div.sk-parallel-item::before {content: \"\";position: absolute;border-left: 1px solid gray;box-sizing: border-box;top: 0;bottom: 0;left: 50%;z-index: -1;}#sk-container-id-4 div.sk-parallel-item {display: flex;flex-direction: column;z-index: 1;position: relative;background-color: white;}#sk-container-id-4 div.sk-parallel-item:first-child::after {align-self: flex-end;width: 50%;}#sk-container-id-4 div.sk-parallel-item:last-child::after {align-self: flex-start;width: 50%;}#sk-container-id-4 div.sk-parallel-item:only-child::after {width: 0;}#sk-container-id-4 div.sk-dashed-wrapped {border: 1px dashed gray;margin: 0 0.4em 0.5em 0.4em;box-sizing: border-box;padding-bottom: 0.4em;background-color: white;}#sk-container-id-4 div.sk-label label {font-family: monospace;font-weight: bold;display: inline-block;line-height: 1.2em;}#sk-container-id-4 div.sk-label-container {text-align: center;}#sk-container-id-4 div.sk-container {/* jupyter's `normalize.less` sets `[hidden] { display: none; }` but bootstrap.min.css set `[hidden] { display: none !important; }` so we also need the `!important` here to be able to override the default hidden behavior on the sphinx rendered scikit-learn.org. See: https://github.com/scikit-learn/scikit-learn/issues/21755 */display: inline-block !important;position: relative;}#sk-container-id-4 div.sk-text-repr-fallback {display: none;}</style><div id=\"sk-container-id-4\" class=\"sk-top-container\"><div class=\"sk-text-repr-fallback\"><pre>LinearRegression()</pre><b>In a Jupyter environment, please rerun this cell to show the HTML representation or trust the notebook. <br />On GitHub, the HTML representation is unable to render, please try loading this page with nbviewer.org.</b></div><div class=\"sk-container\" hidden><div class=\"sk-item\"><div class=\"sk-estimator sk-toggleable\"><input class=\"sk-toggleable__control sk-hidden--visually\" id=\"sk-estimator-id-4\" type=\"checkbox\" checked><label for=\"sk-estimator-id-4\" class=\"sk-toggleable__label sk-toggleable__label-arrow\">LinearRegression</label><div class=\"sk-toggleable__content\"><pre>LinearRegression()</pre></div></div></div></div></div>"
      ]
     },
     "metadata": {},
     "execution_count": 105
    }
   ]
  },
  {
   "cell_type": "code",
   "source": [
    "# Function to predict inflation based on real interest rate\n",
    "def predict_inflation(real_interest_rate):\n",
    "    # Reshape the input to match the shape of the training data\n",
    "    real_interest_rate = np.array(real_interest_rate).reshape(1, -1)\n",
    "    inflation_prediction = model.predict(real_interest_rate)\n",
    "    return inflation_prediction[0]\n",
    "\n",
    "# Example usage\n",
    "input_real_interest_rate = float(input(\"Enter real interest rate: \"))\n",
    "# Ensure the input is a single value\n",
    "predicted_inflation = predict_inflation(np.array(input_real_interest_rate))\n",
    "print(f\"Predicted inflation: {predicted_inflation:.2f}\")"
   ],
   "metadata": {
    "id": "ay6m-PUxSe7X",
    "pycharm": {
     "name": "#%%\n"
    }
   },
   "id": "ay6m-PUxSe7X",
   "execution_count": null,
   "outputs": []
  },
  {
   "cell_type": "code",
   "source": [
    "# visualizes the relationship between two variables\n",
    "sns.scatterplot(data=df_usa, x=\"Real interest rate (%)\", y=\"Inflation\")"
   ],
   "metadata": {
    "colab": {
     "base_uri": "https://localhost:8080/",
     "height": 713
    },
    "id": "WPhwGp5zMMI6",
    "outputId": "e3a296ba-f46a-4b93-a713-8e5594a26b2c",
    "pycharm": {
     "name": "#%%\n"
    }
   },
   "id": "WPhwGp5zMMI6",
   "execution_count": 110,
   "outputs": [
    {
     "output_type": "execute_result",
     "data": {
      "text/plain": [
       "<Axes: xlabel='Real interest rate (%)', ylabel='Inflation'>"
      ]
     },
     "metadata": {},
     "execution_count": 110
    },
    {
     "output_type": "display_data",
     "data": {
      "text/plain": [
       "<Figure size 1000x800 with 1 Axes>"
      ],
      "image/png": "[encoded data removed]"
     },
     "metadata": {}
    }
   ]
  },
  {
   "cell_type": "code",
   "source": [
    "# Assuming df_usa is your DataFrame with columns 'Real interest rate (%)', 'year', and 'Inflation_detrended'\n",
    "model = VAR(df_usa[['Real interest rate (%)', 'year', 'Inflation']])\n",
    "results = model.fit()\n",
    "steps_ahead = 10\n",
    "\n",
    "# Make predictions\n",
    "forecast = results.forecast(df_usa[['Real interest rate (%)', 'year', 'Inflation']].values, steps=steps_ahead)\n",
    "\n",
    "# Display the forecasted values\n",
    "forecast_df = pd.DataFrame(forecast, columns=['Real interest rate (%)', 'year', 'Inflation'])\n",
    "\n",
    "print(\"Forecasted Values for the Next 10 Steps:\")\n",
    "print(forecast_df)"
   ],
   "metadata": {
    "colab": {
     "base_uri": "https://localhost:8080/"
    },
    "id": "dbIFX_P7MnaX",
    "outputId": "31e83d4a-62c5-4015-f607-358d9ec8cd11",
    "pycharm": {
     "name": "#%%\n"
    }
   },
   "id": "dbIFX_P7MnaX",
   "execution_count": 111,
   "outputs": [
    {
     "output_type": "stream",
     "name": "stdout",
     "text": [
      "Forecasted Values for the Next 10 Steps:\n",
      "   Real interest rate (%)    year  Inflation\n",
      "0                1.985088  2021.0   1.177076\n",
      "1                1.708443  2022.0   1.098043\n",
      "2                1.468985  2023.0   1.014578\n",
      "3                1.256528  2024.0   0.930876\n",
      "4                1.063434  2025.0   0.847742\n",
      "5                0.884169  2026.0   0.765198\n",
      "6                0.714764  2027.0   0.683121\n",
      "7                0.552387  2028.0   0.601388\n",
      "8                0.395017  2029.0   0.519903\n",
      "9                0.241214  2030.0   0.438596\n"
     ]
    },
    {
     "output_type": "stream",
     "name": "stderr",
     "text": [
      "/usr/local/lib/python3.10/dist-packages/statsmodels/tsa/base/tsa_model.py:473: ValueWarning: An unsupported index was provided and will be ignored when e.g. forecasting.\n",
      "  self._init_dates(dates, freq)\n"
     ]
    }
   ]
  },
  {
   "cell_type": "code",
   "source": [
    "# Plot actual inflation values\n",
    "plt.plot(df_usa['year'], df_usa['Inflation'], label='Actual Inflation', marker='o')\n",
    "\n",
    "# Plot forecasted inflation values\n",
    "plt.plot(range(df_usa['year'].max() + 1, df_usa['year'].max() + 1 + steps_ahead), forecast_df['Inflation'], label='Forecasted Inflation', marker='o')\n",
    "\n",
    "plt.title('Actual vs Forecasted Inflation Values')\n",
    "plt.xlabel('Year')\n",
    "plt.ylabel('Inflation')\n",
    "plt.legend()\n",
    "plt.grid(True)\n",
    "plt.show()"
   ],
   "metadata": {
    "colab": {
     "base_uri": "https://localhost:8080/",
     "height": 718
    },
    "id": "CZrpDpGFTgIy",
    "outputId": "9100b3b8-22d7-4c02-8d16-ae82e1632814",
    "pycharm": {
     "name": "#%%\n"
    }
   },
   "id": "CZrpDpGFTgIy",
   "execution_count": 112,
   "outputs": [
    {
     "output_type": "display_data",
     "data": {
      "text/plain": [
       "<Figure size 1000x800 with 1 Axes>"
      ],
      "image/png": "[encoded data removed]"
     },
     "metadata": {}
    }
   ]
  },
  {
   "cell_type": "code",
   "source": [
    "# Assuming df_usa is your DataFrame with columns 'Real interest rate (%)', 'year', and 'Inflation_detrended'\n",
    "# Also assuming you have already trained your VAR model and obtained the forecast\n",
    "\n",
    "# Extract the lag order from the model\n",
    "lag_order = results.k_ar\n",
    "\n",
    "# Extract the last 'lag_order' observations for 'Real interest rate (%)', 'year', and 'Inflation_detrended'\n",
    "last_observations = df_usa[['Real interest rate (%)', 'year', 'Inflation_detrended']].iloc[-lag_order:]\n",
    "\n",
    "# Use the last observations to make a prediction for the next step\n",
    "prediction_next_step = results.forecast(last_observations.values, steps=1)\n",
    "\n",
    "# Extract the predicted value for 'Inflation_detrended'\n",
    "predicted_inflation_detrended = prediction_next_step[0, -1]\n",
    "\n",
    "# Display the values\n",
    "print(\"Last Observations:\")\n",
    "print(last_observations)\n",
    "print(\"\\nPredicted Inflation_detrended for the Next Step:\")\n",
    "print(predicted_inflation_detrended)\n",
    "\n",
    "# Plot the values\n",
    "categories = ['Real interest rate (%)', 'Predicted Inflation_detrended']\n",
    "values = [last_observations['Real interest rate (%)'].iloc[-1], predicted_inflation_detrended]\n",
    "\n",
    "plt.bar(categories, values, color=['blue', 'orange'])\n",
    "plt.xlabel('Category')\n",
    "plt.ylabel('Values')\n",
    "plt.title('Actual vs Predicted Inflation_detrended')\n",
    "plt.show()"
   ],
   "metadata": {
    "colab": {
     "base_uri": "https://localhost:8080/",
     "height": 822
    },
    "id": "IiTN2n4JNLT8",
    "outputId": "9dc8b302-faf6-45fc-cc69-9d2c616a7555",
    "pycharm": {
     "name": "#%%\n"
    }
   },
   "id": "IiTN2n4JNLT8",
   "execution_count": 113,
   "outputs": [
    {
     "output_type": "stream",
     "name": "stdout",
     "text": [
      "Last Observations:\n",
      "    Real interest rate (%)  year  Inflation_detrended\n",
      "50                2.311111  2020            -1.474244\n",
      "\n",
      "Predicted Inflation_detrended for the Next Step:\n",
      "0.5064514289600766\n"
     ]
    },
    {
     "output_type": "display_data",
     "data": {
      "text/plain": [
       "<Figure size 1000x800 with 1 Axes>"
      ],
      "image/png": "[encoded data removed]"
     },
     "metadata": {}
    }
   ]
  }
 ],
 "metadata": {
  "kernelspec": {
   "display_name": "Python 3 (ipykernel)",
   "language": "python",
   "name": "python3"
  },
  "language_info": {
   "codemirror_mode": {
    "name": "ipython",
    "version": 3
   },
   "file_extension": ".py",
   "mimetype": "text/x-python",
   "name": "python",
   "nbconvert_exporter": "python",
   "pygments_lexer": "ipython3",
   "version": "3.10.13"
  },
  "colab": {
   "provenance": []
  }
 },
 "nbformat": 4,
 "nbformat_minor": 5
}