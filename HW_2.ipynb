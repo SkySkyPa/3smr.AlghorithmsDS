{
 "cells": [
  {
   "cell_type": "code",
   "execution_count": 1,
   "outputs": [
    {
     "name": "stdout",
     "output_type": "stream",
     "text": [
      "Q 1: Covariance between x and g = 1.4761904761904763\n",
      "Q 2: Correlation coefficient between x and g = 0.8406055240472927\n",
      "Q 3: Linear regression: g = 0.45588235294117657 x + 1.0735294117647063\n",
      "Q 4: Predicted GPA for 2 hours of study = 1.9852941176470593\n",
      "Q 5: Residuals = [ 0.64705882 -0.80882353  0.10294118  0.55882353  0.01470588  0.01470588\n",
      " -0.52941176]\n",
      "Q 6: R^2 = 0.7066176470588237\n",
      "Q 7: Adjusted R^2 = 0.7066176470588237\n"
     ]
    }
   ],
   "source": [
    "# Q1 to Q7\n",
    "\n",
    "import numpy as np\n",
    "\n",
    "# Given data\n",
    "x = np.array([5, 6, 4, 3, 2, 2, 1])\n",
    "g = np.array([4, 3, 3, 3, 2, 2, 1])\n",
    "\n",
    "# Q 1: Calculate covariance between x and g\n",
    "cov_xg = np.cov(x, g)[0, 1]\n",
    "\n",
    "# Q 2: Calculate correlation coefficient between x and g\n",
    "corr_xg = np.corrcoef(x, g)[0, 1]\n",
    "\n",
    "# Q 3: Calculate linear regression\n",
    "slope, intercept = np.polyfit(x, g, 1)\n",
    "\n",
    "# Q 4: Predict GPA for a student who studied 2 hours\n",
    "predicted_gpa = slope * 2 + intercept\n",
    "\n",
    "# Q 5: Calculate residuals\n",
    "residuals = g - (slope * x + intercept)\n",
    "\n",
    "# Q 6: Calculate R^2\n",
    "r_squared = 1 - (np.sum(residuals**2) / np.sum((g - np.mean(g))**2))\n",
    "\n",
    "# Q 7: R̄^2 is the same as R^2 for simple linear regression\n",
    "adjusted_r_squared = r_squared\n",
    "\n",
    "# Print results\n",
    "print(\"Q 1: Covariance between x and g =\", cov_xg)\n",
    "print(\"Q 2: Correlation coefficient between x and g =\", corr_xg)\n",
    "print(\"Q 3: Linear regression: g =\", slope, \"x +\", intercept)\n",
    "print(\"Q 4: Predicted GPA for 2 hours of study =\", predicted_gpa)\n",
    "print(\"Q 5: Residuals =\", residuals)\n",
    "print(\"Q 6: R^2 =\", r_squared)\n",
    "print(\"Q 7: Adjusted R^2 =\", adjusted_r_squared)"
   ],
   "metadata": {
    "collapsed": false,
    "pycharm": {
     "name": "#%%\n"
    }
   }
  },
  {
   "cell_type": "code",
   "execution_count": 2,
   "outputs": [
    {
     "name": "stdout",
     "output_type": "stream",
     "text": [
      "Q 9: Covariance between y and g = -2.142857142857143\n",
      "Q 10: Correlation coefficient between y and g = -0.9036217450153111\n",
      "Q 11: Linear regression: g = -0.3629032258064516 y + 4.282258064516129\n",
      "Q 12: Predicted GPA for 4 hours of playing video games = 2.8306451612903225\n",
      "Q 13: Residuals = [ 0.44354839  0.53225806 -0.55645161 -0.19354839  0.25806452 -0.10483871\n",
      " -0.37903226]\n",
      "Q 14: R^2 = 0.8165322580645161\n",
      "Q 15: Adjusted R^2 = 0.8165322580645161\n"
     ]
    }
   ],
   "source": [
    "# Q 9 to Q 15\n",
    "\n",
    "import numpy as np\n",
    "from scipy import stats\n",
    "\n",
    "# Given data\n",
    "y = np.array([2, 5, 2, 3, 7, 6, 8])\n",
    "g = np.array([4, 3, 3, 3, 2, 2, 1])\n",
    "\n",
    "# Q 9: Calculate covariance between y and g\n",
    "cov_yg = np.cov(y, g)[0, 1]\n",
    "\n",
    "# Q 10: Calculate correlation coefficient between y and g\n",
    "corr_yg = np.corrcoef(y, g)[0, 1]\n",
    "\n",
    "# Q 11: Calculate linear regression\n",
    "slope, intercept, r_value, p_value, std_err = stats.linregress(y, g)\n",
    "\n",
    "# Q 12: Predict GPA for a student who played video games for 4 hours\n",
    "predicted_gpa = slope * 4 + intercept\n",
    "\n",
    "# Q 13: Calculate residuals\n",
    "residuals = g - (slope * y + intercept)\n",
    "\n",
    "# Q 14: Calculate R^2\n",
    "r_squared = r_value**2\n",
    "\n",
    "# Q 15: Adjusted R^2 (same as R^2 for simple linear regression)\n",
    "adjusted_r_squared = r_squared\n",
    "\n",
    "# Print results\n",
    "print(\"Q 9: Covariance between y and g =\", cov_yg)\n",
    "print(\"Q 10: Correlation coefficient between y and g =\", corr_yg)\n",
    "print(\"Q 11: Linear regression: g =\", slope, \"y +\", intercept)\n",
    "print(\"Q 12: Predicted GPA for 4 hours of playing video games =\", predicted_gpa)\n",
    "print(\"Q 13: Residuals =\", residuals)\n",
    "print(\"Q 14: R^2 =\", r_squared)\n",
    "print(\"Q 15: Adjusted R^2 =\", adjusted_r_squared)"
   ],
   "metadata": {
    "collapsed": false,
    "pycharm": {
     "name": "#%%\n"
    }
   }
  }
 ],
 "metadata": {
  "kernelspec": {
   "display_name": "Python 3",
   "language": "python",
   "name": "python3"
  },
  "language_info": {
   "codemirror_mode": {
    "name": "ipython",
    "version": 2
   },
   "file_extension": ".py",
   "mimetype": "text/x-python",
   "name": "python",
   "nbconvert_exporter": "python",
   "pygments_lexer": "ipython2",
   "version": "2.7.6"
  }
 },
 "nbformat": 4,
 "nbformat_minor": 0
}